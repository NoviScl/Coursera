{
 "cells": [
  {
   "cell_type": "code",
   "execution_count": 1,
   "metadata": {},
   "outputs": [
    {
     "name": "stderr",
     "output_type": "stream",
     "text": [
      "Using TensorFlow backend.\n"
     ]
    },
    {
     "name": "stdout",
     "output_type": "stream",
     "text": [
      "(50000, 28, 28) (50000,)\n"
     ]
    }
   ],
   "source": [
    "from preprocessed_mnist import load_dataset\n",
    "X_train, y_train, X_val, y_val, X_test, y_test = load_dataset()\n",
    "print(X_train.shape, y_train.shape)\n",
    "import matplotlib.pyplot as plt\n",
    "%matplotlib inline"
   ]
  },
  {
   "cell_type": "code",
   "execution_count": 2,
   "metadata": {},
   "outputs": [],
   "source": [
    "import tensorflow as tf\n",
    "from sklearn.utils import shuffle"
   ]
  },
  {
   "cell_type": "code",
   "execution_count": 3,
   "metadata": {},
   "outputs": [],
   "source": [
    "X_train = X_train.reshape(X_train.shape[0], -1)\n",
    "X_test = X_test.reshape(X_test.shape[0], -1)"
   ]
  },
  {
   "cell_type": "code",
   "execution_count": 12,
   "metadata": {},
   "outputs": [],
   "source": [
    "def weight_variable(shape):\n",
    "    initial = tf.truncated_normal(shape, stddev=0.1)\n",
    "    return tf.Variable(initial)\n",
    "\n",
    "def bias_variable(shape):\n",
    "    initial = tf.constant(0.1, shape=shape)\n",
    "    return tf.Variable(initial)\n",
    "\n",
    "def myNN(x):\n",
    "    \n",
    "    '''\n",
    "    input: x, a tnesor of shape (N_example, 784)\n",
    "    output: y, a tensor of shape (N_example, N_class)\n",
    "    '''\n",
    "    \n",
    "    with tf.name_scope('layer1'):\n",
    "        w1 = weight_variable([784, 256])\n",
    "        b1 = bias_variable([256])\n",
    "        h1 = tf.nn.relu(tf.matmul(x, w1) + b1)\n",
    "    with tf.name_scope('dropout1'):\n",
    "        h1_drop = tf.nn.dropout(h1, 0.75)\n",
    "    with tf.name_scope('layer2'):\n",
    "        w2 = weight_variable([256, 128])\n",
    "        b2 = bias_variable([128])\n",
    "        h2 = tf.nn.relu(tf.matmul(h1_drop, w2) + b2)\n",
    "    with tf.name_scope('layer3'):\n",
    "        w3 = weight_variable([128, 10])\n",
    "        b3 = bias_variable([10])\n",
    "        y = tf.nn.sigmoid(tf.matmul(h2, w3) + b3)\n",
    "\n",
    "    return y\n",
    "\n",
    "def main():\n",
    "    \n",
    "    global X_train, y_train\n",
    "\n",
    "    x = tf.placeholder(tf.float32, [None, 784])\n",
    "    y_ = tf.placeholder(tf.int64, [None])\n",
    "\n",
    "    y = myNN(x)\n",
    "\n",
    "    with tf.name_scope('loss'):\n",
    "        cross_entropy = tf.losses.sparse_softmax_cross_entropy(labels=y_, logits=y)\n",
    "        cross_entropy = tf.reduce_mean(cross_entropy)\n",
    "\n",
    "    with tf.name_scope('adam_optimizer'):\n",
    "        optimizer = tf.train.AdamOptimizer(1e-4).minimize(cross_entropy)\n",
    "\n",
    "    with tf.name_scope('accuracy'):\n",
    "        correct_prediction = tf.equal(tf.argmax(y, 1), y_)\n",
    "        correct_prediction = tf.cast(correct_prediction, tf.float32)\n",
    "        accuracy = tf.reduce_mean(correct_prediction)\n",
    "\n",
    "\n",
    "    sess = tf.InteractiveSession()\n",
    "    sess.run(tf.global_variables_initializer())\n",
    "\n",
    "    train_loss=[]\n",
    "    test_loss=[]\n",
    "    batch_size = 50\n",
    "    n_epoch = 30\n",
    "    for epoch in range(1, n_epoch+1):\n",
    "        start_index = epoch * batch_size % X_train.shape[0]\n",
    "        end_index = start_index + batch_size\n",
    "        if start_index == 0: # shuffle training data\n",
    "            X_train, y_train = shuffle(X_train, y_train)\n",
    "        x_batch = X_train[start_index:end_index, :]\n",
    "        y_batch = y_train[start_index:end_index]\n",
    "        sess.run(optimizer, feed_dict={x: x_batch, y_: y_batch})\n",
    "\n",
    "        if epoch%10 == 0:\n",
    "            train_loss.append(cross_entropy.eval({x: X_train, y_: y_train}))\n",
    "            print (type(cross_entropy.eval({x: X_train, y_: y_train})))\n",
    "            print ((cross_entropy.eval({x: X_train, y_: y_train})))\n",
    "            test_loss.append(cross_entropy.eval({x: X_test, y_: y_test}))\n",
    "            print(\"Cost after \" + str(epoch) + \" epoch: \" + str(train_loss[-1]))\n",
    "\n",
    "    train_acc = accuracy.eval({x: X_train, y_: y_train})\n",
    "    test_acc = accuracy.eval({x: X_test, y_: y_test})\n",
    "\n",
    "    print(\"Train Accuracy Score:\", train_acc)\n",
    "    print(\"Test Accuracy Score:\", test_acc)\n",
    "\n",
    "    index = list(range(1, len(train_loss) + 1))\n",
    "    plt.plot(index, train_loss, label='Train')\n",
    "    plt.plot(index, test_loss, label='Test')\n",
    "    plt.xlabel('number of iterations')\n",
    "    plt.ylabel('loss')\n",
    "    plt.show()"
   ]
  },
  {
   "cell_type": "code",
   "execution_count": 15,
   "metadata": {},
   "outputs": [
    {
     "name": "stdout",
     "output_type": "stream",
     "text": [
      "<class 'numpy.float32'>\n",
      "2.28029\n",
      "Cost after 10 epoch: 2.28004\n",
      "<class 'numpy.float32'>\n",
      "2.25538\n",
      "Cost after 20 epoch: 2.255\n",
      "<class 'numpy.float32'>\n",
      "2.23097\n",
      "Cost after 30 epoch: 2.23097\n",
      "Train Accuracy Score: 0.23238\n",
      "Test Accuracy Score: 0.2357\n"
     ]
    },
    {
     "data": {
      "image/png": "[encoded data removed]",
      "text/plain": [
       "<matplotlib.figure.Figure at 0x146d70fd0>"
      ]
     },
     "metadata": {},
     "output_type": "display_data"
    },
    {
     "name": "stdout",
     "output_type": "stream",
     "text": [
      "CPU times: user 34.1 s, sys: 3.41 s, total: 37.5 s\n",
      "Wall time: 17.1 s\n"
     ]
    }
   ],
   "source": [
    "%%time\n",
    "main()"
   ]
  },
  {
   "cell_type": "code",
   "execution_count": null,
   "metadata": {},
   "outputs": [],
   "source": []
  }
 ],
 "metadata": {
  "kernelspec": {
   "display_name": "Python 3",
   "language": "python",
   "name": "python3"
  },
  "language_info": {
   "codemirror_mode": {
    "name": "ipython",
    "version": 3
   },
   "file_extension": ".py",
   "mimetype": "text/x-python",
   "name": "python",
   "nbconvert_exporter": "python",
   "pygments_lexer": "ipython3",
   "version": "3.5.1"
  }
 },
 "nbformat": 4,
 "nbformat_minor": 2
}

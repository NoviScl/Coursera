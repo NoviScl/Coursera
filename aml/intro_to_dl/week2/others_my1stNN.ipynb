{
 "cells": [
  {
   "cell_type": "code",
   "execution_count": 1,
   "metadata": {},
   "outputs": [
    {
     "name": "stderr",
     "output_type": "stream",
     "text": [
      "Using TensorFlow backend.\n"
     ]
    },
    {
     "name": "stdout",
     "output_type": "stream",
     "text": [
      "(50000, 28, 28) (50000,)\n"
     ]
    },
    {
     "data": {
      "image/png": "[encoded data removed]",
      "text/plain": [
       "<matplotlib.figure.Figure at 0x1048823c8>"
      ]
     },
     "metadata": {},
     "output_type": "display_data"
    }
   ],
   "source": [
    "from datetime import datetime\n",
    "date = datetime.today()\n",
    "from preprocessed_mnist import load_dataset\n",
    "X_train, y_train, X_val, y_val, X_test, y_test = load_dataset()\n",
    "print(X_train.shape, y_train.shape)\n",
    "import matplotlib.pyplot as plt\n",
    "%matplotlib inline\n",
    "plt.imshow(X_train[0], cmap=\"Greys\");"
   ]
  },
  {
   "cell_type": "code",
   "execution_count": 2,
   "metadata": {},
   "outputs": [],
   "source": [
    "import numpy as np\n",
    "import tensorflow as tf\n",
    "\n",
    "np.random.seed(0)\n",
    "\n",
    "sess = tf.Session()"
   ]
  },
  {
   "cell_type": "code",
   "execution_count": 3,
   "metadata": {},
   "outputs": [],
   "source": [
    "m = X_train.shape[0]\n",
    "idxs = np.random.permutation(m)\n",
    "X = X_train.reshape((m, -1))[idxs, :]\n",
    "y = sess.run(tf.one_hot(y_train, 10))[idxs, :]\n",
    "\n",
    "X_val = X_val.reshape(X_val.shape[0], -1)\n",
    "\n",
    "X_test = X_test.reshape((X_test.shape[0], -1))\n",
    "y_test_input = sess.run(tf.one_hot(y_test, 10))"
   ]
  },
  {
   "cell_type": "code",
   "execution_count": 4,
   "metadata": {},
   "outputs": [],
   "source": [
    "x = tf.placeholder(tf.float32, shape=(None, X.shape[-1]))\n",
    "a1 = tf.layers.dense(x, units=50, activation=tf.nn.relu)\n",
    "a2 = tf.layers.dense(a1, units=50, activation=tf.nn.relu)\n",
    "a3 = tf.layers.dense(a2, units=50, activation=tf.nn.relu)\n",
    "y_pred = tf.layers.dense(a3, units=10, activation=tf.nn.softmax)\n",
    "y_true = tf.placeholder(tf.float32, shape=(None, y.shape[-1]))\n",
    "\n",
    "loss = tf.losses.softmax_cross_entropy(y_true, y_pred)\n",
    "optimizer = tf.train.GradientDescentOptimizer(3)\n",
    "train = optimizer.minimize(loss)\n"
   ]
  },
  {
   "cell_type": "code",
   "execution_count": 5,
   "metadata": {},
   "outputs": [],
   "source": [
    "init = tf.global_variables_initializer()\n",
    "sess.run(init)"
   ]
  },
  {
   "cell_type": "code",
   "execution_count": 8,
   "metadata": {},
   "outputs": [
    {
     "name": "stdout",
     "output_type": "stream",
     "text": [
      "0\n",
      "10\n",
      "20\n",
      "30\n",
      "40\n",
      "50\n",
      "60\n",
      "70\n",
      "80\n",
      "90\n",
      "100\n",
      "110\n",
      "120\n",
      "130\n",
      "140\n"
     ]
    }
   ],
   "source": [
    "train_losses = []\n",
    "test_losses = []\n",
    "num_iter = 150\n",
    "batch_size = 4096\n",
    "num_batches = np.ceil(m / batch_size)\n",
    "for i in range(num_iter):\n",
    "    idxs = np.random.permutation(m)\n",
    "    X = X[idxs, :]\n",
    "    y = y[idxs, :]\n",
    "    for j in range(int(num_batches)):\n",
    "        sess.run(train, feed_dict={x: X[j*batch_size:(j+1)*batch_size, :],\n",
    "                                   y_true: y[j*batch_size:(j+1)*batch_size, :]})\n",
    "        \n",
    "    if i % 10 == 0:\n",
    "        train_loss = sess.run(loss, feed_dict={x: X, y_true: y})\n",
    "        test_loss = sess.run(loss, feed_dict={x: X_test, \n",
    "                                          y_true: y_test_input})\n",
    "        train_losses.append(train_loss)\n",
    "        test_losses.append(test_loss)\n",
    "        print (i)"
   ]
  },
  {
   "cell_type": "code",
   "execution_count": 17,
   "metadata": {},
   "outputs": [
    {
     "name": "stdout",
     "output_type": "stream",
     "text": [
      "0\n",
      "10\n",
      "20\n",
      "30\n",
      "40\n"
     ]
    }
   ],
   "source": [
    "for i in range(50):\n",
    "    idxs = np.random.permutation(m)\n",
    "    X = X[idxs, :]\n",
    "    y = y[idxs, :]\n",
    "    for j in range(int(num_batches)):\n",
    "        sess.run(train, feed_dict={x: X[j*batch_size:(j+1)*batch_size, :],\n",
    "                                   y_true: y[j*batch_size:(j+1)*batch_size, :]})\n",
    "        \n",
    "    if i % 10 == 0:\n",
    "        train_loss = sess.run(loss, feed_dict={x: X, y_true: y})\n",
    "        test_loss = sess.run(loss, feed_dict={x: X_test, \n",
    "                                          y_true: y_test_input})\n",
    "        train_losses.append(train_loss)\n",
    "        test_losses.append(test_loss)\n",
    "        print (i)"
   ]
  },
  {
   "cell_type": "code",
   "execution_count": 20,
   "metadata": {},
   "outputs": [
    {
     "name": "stdout",
     "output_type": "stream",
     "text": [
      "0\n",
      "10\n",
      "20\n",
      "30\n",
      "40\n"
     ]
    }
   ],
   "source": [
    "for i in range(50):\n",
    "    idxs = np.random.permutation(m)\n",
    "    X = X[idxs, :]\n",
    "    y = y[idxs, :]\n",
    "    for j in range(int(num_batches)):\n",
    "        sess.run(train, feed_dict={x: X[j*batch_size:(j+1)*batch_size, :],\n",
    "                                   y_true: y[j*batch_size:(j+1)*batch_size, :]})\n",
    "        \n",
    "    if i % 10 == 0:\n",
    "        train_loss = sess.run(loss, feed_dict={x: X, y_true: y})\n",
    "        test_loss = sess.run(loss, feed_dict={x: X_test, \n",
    "                                          y_true: y_test_input})\n",
    "        train_losses.append(train_loss)\n",
    "        test_losses.append(test_loss)\n",
    "        print (i)"
   ]
  },
  {
   "cell_type": "code",
   "execution_count": 23,
   "metadata": {},
   "outputs": [
    {
     "name": "stdout",
     "output_type": "stream",
     "text": [
      "0\n",
      "10\n",
      "20\n"
     ]
    }
   ],
   "source": [
    "for i in range(30):\n",
    "    idxs = np.random.permutation(m)\n",
    "    X = X[idxs, :]\n",
    "    y = y[idxs, :]\n",
    "    for j in range(int(num_batches)):\n",
    "        sess.run(train, feed_dict={x: X[j*batch_size:(j+1)*batch_size, :],\n",
    "                                   y_true: y[j*batch_size:(j+1)*batch_size, :]})\n",
    "        \n",
    "    if i % 10 == 0:\n",
    "        train_loss = sess.run(loss, feed_dict={x: X, y_true: y})\n",
    "        test_loss = sess.run(loss, feed_dict={x: X_test, \n",
    "                                          y_true: y_test_input})\n",
    "        train_losses.append(train_loss)\n",
    "        test_losses.append(test_loss)\n",
    "        print (i)"
   ]
  },
  {
   "cell_type": "code",
   "execution_count": 9,
   "metadata": {},
   "outputs": [
    {
     "data": {
      "text/plain": [
       "<matplotlib.legend.Legend at 0x14260a2e8>"
      ]
     },
     "execution_count": 9,
     "metadata": {},
     "output_type": "execute_result"
    },
    {
     "data": {
      "image/png": "[encoded data removed]",
      "text/plain": [
       "<matplotlib.figure.Figure at 0x142609b38>"
      ]
     },
     "metadata": {},
     "output_type": "display_data"
    }
   ],
   "source": [
    "fig = plt.figure()\n",
    "fig.gca().set_xlabel('Iteration Number')\n",
    "fig.gca().set_ylabel('Losses')\n",
    "fig.gca().plot(np.arange(1, len(train_losses)+1), train_losses, 'r', np.arange(1, len(test_losses)+1), test_losses, 'b')\n",
    "fig.gca().legend(['train', 'test'])"
   ]
  },
  {
   "cell_type": "code",
   "execution_count": 24,
   "metadata": {},
   "outputs": [],
   "source": [
    "pred = sess.run(y_pred, feed_dict={x: X_test})\n",
    "pred = np.argmax(pred, axis=1)"
   ]
  },
  {
   "cell_type": "code",
   "execution_count": 25,
   "metadata": {},
   "outputs": [
    {
     "name": "stdout",
     "output_type": "stream",
     "text": [
      "Test Accuracy:  0.9732\n"
     ]
    }
   ],
   "source": [
    "accuracy = (y_test == pred).sum() / y_test.shape[0]\n",
    "print('Test Accuracy: ', accuracy)"
   ]
  },
  {
   "cell_type": "code",
   "execution_count": 16,
   "metadata": {},
   "outputs": [
    {
     "name": "stdout",
     "output_type": "stream",
     "text": [
      "9 24\n"
     ]
    }
   ],
   "source": [
    "tdelta = datetime.today() - date\n",
    "print(tdelta.seconds // 60,  tdelta.seconds % 60)"
   ]
  },
  {
   "cell_type": "code",
   "execution_count": null,
   "metadata": {
    "collapsed": true
   },
   "outputs": [],
   "source": []
  }
 ],
 "metadata": {
  "kernelspec": {
   "display_name": "Python 3",
   "language": "python",
   "name": "python3"
  },
  "language_info": {
   "codemirror_mode": {
    "name": "ipython",
    "version": 3
   },
   "file_extension": ".py",
   "mimetype": "text/x-python",
   "name": "python",
   "nbconvert_exporter": "python",
   "pygments_lexer": "ipython3",
   "version": "3.5.1"
  }
 },
 "nbformat": 4,
 "nbformat_minor": 2
}

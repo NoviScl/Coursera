{
 "cells": [
  {
   "cell_type": "code",
   "execution_count": 1,
   "metadata": {},
   "outputs": [
    {
     "name": "stderr",
     "output_type": "stream",
     "text": [
      "Using TensorFlow backend.\n"
     ]
    }
   ],
   "source": [
    "from preprocessed_mnist import load_dataset\n",
    "X_train, y_train, X_val, y_val, X_test, y_test = load_dataset()\n",
    "import matplotlib.pyplot as plt\n",
    "%matplotlib inline"
   ]
  },
  {
   "cell_type": "code",
   "execution_count": 2,
   "metadata": {},
   "outputs": [],
   "source": [
    "import tensorflow as tf\n",
    "import random\n",
    "import numpy as np"
   ]
  },
  {
   "cell_type": "code",
   "execution_count": 3,
   "metadata": {},
   "outputs": [],
   "source": [
    "def dense_layer(inputs, in_size, out_size, activation=None):\n",
    "    weights = tf.Variable(tf.random_normal([in_size, out_size], mean=0.0, stddev=0.05), name='W')\n",
    "    bias = tf.Variable(tf.zeros([1, out_size])+0.1, name='b')\n",
    "    Wx_plus_b = tf.matmul(inputs, weights) + bias\n",
    "    if activation is None:\n",
    "        outputs = Wx_plus_b\n",
    "    else:\n",
    "        outputs = activation(Wx_plus_b)\n",
    "    return outputs"
   ]
  },
  {
   "cell_type": "code",
   "execution_count": 18,
   "metadata": {},
   "outputs": [],
   "source": [
    "BATCH_SIZE = 5000\n",
    "LR = 0.003\n",
    "\n",
    "tf_x = tf.placeholder(tf.float32, [None, 28*28], name='X')\n",
    "tf_y = tf.placeholder(tf.int32, [None, ], name='Y')\n",
    "\n",
    "layer_1 = dense_layer(tf_x, 28*28, 50, tf.nn.relu)\n",
    "output = dense_layer(layer_1, 50, 10)  #do not apply softmax here yet\n",
    "\n",
    "loss = tf.losses.sparse_softmax_cross_entropy(labels=tf_y, logits=output)  #will preform softmax and xentropy together\n",
    "tf.summary.scalar('loss', loss)\n",
    "\n",
    "accuracy = tf.metrics.accuracy(labels=tf_y, predictions=tf.argmax(output, axis=1))[1]  #get the accuracy_op\n",
    "tf.summary.scalar('accuracy', accuracy)\n",
    "\n",
    "optimizer = tf.train.AdamOptimizer(LR)\n",
    "train_op = optimizer.minimize(loss)\n"
   ]
  },
  {
   "cell_type": "code",
   "execution_count": 19,
   "metadata": {},
   "outputs": [
    {
     "name": "stdout",
     "output_type": "stream",
     "text": [
      "step 0/1000 accuracy: 23.85 percent\n",
      "step 100/1000 accuracy: 86.69 percent\n",
      "step 200/1000 accuracy: 90.46 percent\n",
      "step 300/1000 accuracy: 92.22 percent\n",
      "step 400/1000 accuracy: 93.28 percent\n",
      "step 500/1000 accuracy: 94.00 percent\n",
      "step 600/1000 accuracy: 94.53 percent\n",
      "step 700/1000 accuracy: 94.93 percent\n",
      "step 800/1000 accuracy: 95.26 percent\n",
      "step 900/1000 accuracy: 95.53 percent\n"
     ]
    }
   ],
   "source": [
    "sess = tf.Session()\n",
    "init_op = tf.group(tf.global_variables_initializer(), tf.local_variables_initializer())\n",
    "sess.run(init_op)\n",
    "X_val = np.reshape(X_val, (-1, 28*28))\n",
    "X_test = np.reshape(X_test, (-1, 28*28))\n",
    "\n",
    "train_acc = []\n",
    "train_loss = []\n",
    "val_acc = []\n",
    "val_loss = []\n",
    "\n",
    "ITER = 1000\n",
    "for step in range(ITER):\n",
    "    batch = random.sample(range(X_train.shape[0]), BATCH_SIZE)\n",
    "    X_batch = np.reshape(X_train[batch], (-1, 28*28))\n",
    "    _, tloss, acc = sess.run([train_op, loss, accuracy], {tf_x: X_batch, tf_y: y_train[batch]})\n",
    "    train_acc.append(acc)\n",
    "    train_loss.append(tloss)\n",
    "    \n",
    "    vloss, vacc = sess.run([loss, accuracy], {tf_x: X_val, tf_y: y_val})\n",
    "    val_acc.append(vacc)\n",
    "    val_loss.append(vloss)\n",
    "    \n",
    "    if step%100 == 0:\n",
    "        print ('step %d/%d'%(step, ITER), 'accuracy: %.2f percent'%(vacc*100))"
   ]
  },
  {
   "cell_type": "code",
   "execution_count": null,
   "metadata": {},
   "outputs": [],
   "source": [
    "# To my reviewer:\n",
    "# Hi! Thanks for taking the time to look at my codes.\n",
    "# As I have tested with my CPU, the training should finish within ~3 minutes and obtain ~96% accuracy.\n",
    "# You could run for more iterations and obtain higher accuracy simply by increasing the value of ITER.\n",
    "# If you have any question, feed free to contact me at sichenglei1125@gmail.com ."
   ]
  },
  {
   "cell_type": "code",
   "execution_count": 20,
   "metadata": {},
   "outputs": [
    {
     "data": {
      "text/plain": [
       "<matplotlib.legend.Legend at 0x12fdd5c50>"
      ]
     },
     "execution_count": 20,
     "metadata": {},
     "output_type": "execute_result"
    },
    {
     "data": {
      "image/png": "[encoded data removed]",
      "text/plain": [
       "<matplotlib.figure.Figure at 0x12fd762e8>"
      ]
     },
     "metadata": {},
     "output_type": "display_data"
    }
   ],
   "source": [
    "fig = plt.figure()\n",
    "fig.gca().set_xlabel('Iteration Number')\n",
    "fig.gca().set_ylabel('Losses')\n",
    "fig.gca().plot(range(ITER), train_loss, 'r', range(ITER), val_loss, 'b')\n",
    "fig.gca().legend(['train', 'test'])"
   ]
  },
  {
   "cell_type": "code",
   "execution_count": 21,
   "metadata": {},
   "outputs": [
    {
     "data": {
      "text/plain": [
       "<matplotlib.legend.Legend at 0x12ffe2d30>"
      ]
     },
     "execution_count": 21,
     "metadata": {},
     "output_type": "execute_result"
    },
    {
     "data": {
      "image/png": "[encoded data removed]",
      "text/plain": [
       "<matplotlib.figure.Figure at 0x132c099e8>"
      ]
     },
     "metadata": {},
     "output_type": "display_data"
    }
   ],
   "source": [
    "fig = plt.figure()\n",
    "fig.gca().set_xlabel('Iteration Number')\n",
    "fig.gca().set_ylabel('Accuracy')\n",
    "fig.gca().plot(range(ITER), train_acc, 'r', range(ITER), val_acc, 'b')\n",
    "fig.gca().legend(['train', 'test'])"
   ]
  },
  {
   "cell_type": "code",
   "execution_count": 22,
   "metadata": {},
   "outputs": [],
   "source": [
    "test_loss, test_acc = sess.run([loss, accuracy], {tf_x: X_test, tf_y: y_test})"
   ]
  },
  {
   "cell_type": "code",
   "execution_count": 23,
   "metadata": {},
   "outputs": [
    {
     "name": "stdout",
     "output_type": "stream",
     "text": [
      "Test accuracy:  0.957472\n"
     ]
    }
   ],
   "source": [
    "print ('Test accuracy: ', test_acc)"
   ]
  },
  {
   "cell_type": "code",
   "execution_count": null,
   "metadata": {},
   "outputs": [],
   "source": []
  }
 ],
 "metadata": {
  "kernelspec": {
   "display_name": "Python 3",
   "language": "python",
   "name": "python3"
  },
  "language_info": {
   "codemirror_mode": {
    "name": "ipython",
    "version": 3
   },
   "file_extension": ".py",
   "mimetype": "text/x-python",
   "name": "python",
   "nbconvert_exporter": "python",
   "pygments_lexer": "ipython3",
   "version": "3.5.1"
  }
 },
 "nbformat": 4,
 "nbformat_minor": 2
}

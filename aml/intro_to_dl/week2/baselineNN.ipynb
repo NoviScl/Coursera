{
 "cells": [
  {
   "cell_type": "code",
   "execution_count": 72,
   "metadata": {},
   "outputs": [],
   "source": [
    "import tensorflow as tf\n",
    "import numpy as np\n",
    "from preprocessed_mnist import load_dataset\n",
    "X_train, y_train, X_val, y_val, X_test, y_test = load_dataset()\n"
   ]
  },
  {
   "cell_type": "code",
   "execution_count": 73,
   "metadata": {},
   "outputs": [],
   "source": [
    "X_train = np.reshape(X_train, (-1, 28*28))\n",
    "X_val = np.reshape(X_val, (-1, 28*28))\n",
    "X_test = np.reshape(X_test, (-1, 28*28))"
   ]
  },
  {
   "cell_type": "code",
   "execution_count": 77,
   "metadata": {},
   "outputs": [],
   "source": [
    "import random\n",
    "\n",
    "def add_layer(inputs, in_size, out_size, activation_function=None):\n",
    "    with tf.name_scope('layer'):\n",
    "        with tf.name_scope('weights'):\n",
    "            Weights = tf.Variable(tf.random_normal([in_size, out_size], mean=0.0, stddev=0.1), name='W')\n",
    "            tf.summary.histogram('weights', Weights)\n",
    "        with tf.name_scope('bias'):\n",
    "            bias = tf.Variable(tf.zeros([1, out_size]) + 0.1, name='b')\n",
    "            tf.summary.histogram('bias', bias)\n",
    "        with tf.name_scope('Wx_plus_b'):\n",
    "            Wx_plus_b=tf.matmul(inputs, Weights) + bias\n",
    "        if activation_function is None:\n",
    "            outputs = Wx_plus_b\n",
    "        else:\n",
    "            outputs = activation_function(Wx_plus_b)\n",
    "        tf.summary.histogram('outputs', outputs)\n",
    "        return outputs\n",
    "\n",
    "def compute_accuracy(v_xs, v_ys):\n",
    "    global prediction\n",
    "    y_pre = sess.run(prediction, feed_dict={xs: v_xs})\n",
    "    correct_prediction = tf.equal(tf.argmax(y_pre, 1), tf.argmax(v_ys, 1))\n",
    "    accuracy = tf.reduce_mean(tf.cast(correct_prediction, tf.float32))\n",
    "    result = sess.run(accuracy)\n",
    "    return result\n",
    "\n",
    "xs = tf.placeholder(tf.float32, [None, 784])    #28*28\n",
    "ys = tf.placeholder(tf.float32, [None, 10])\n",
    "\n",
    "layer_1 = add_layer(xs, 784, 100, activation_function=tf.nn.relu)\n",
    "prediction = add_layer(layer_1, 100, 10, activation_function=tf.nn.softmax)\n",
    "\n",
    "cross_entropy = tf.reduce_mean(-tf.reduce_sum(ys*tf.log(prediction), axis=1))\n",
    "tf.summary.scalar('xentropy_loss', cross_entropy)\n",
    "\n",
    "#default lr for Adam is 0.001, this is smaller tham that of GD\n",
    "train_step = tf.train.AdamOptimizer(0.0001).minimize(cross_entropy)\n",
    "\n",
    "init = tf.global_variables_initializer()\n",
    "sess = tf.Session()\n",
    "merge = tf.summary.merge_all()\n",
    "writer = tf.summary.FileWriter('./logs', sess.graph)\n",
    "sess.run(init)\n",
    "\n"
   ]
  },
  {
   "cell_type": "code",
   "execution_count": 75,
   "metadata": {},
   "outputs": [],
   "source": [
    "y_train = sess.run(tf.one_hot(tf.squeeze(y_train), depth=10))\n",
    "y_val = sess.run(tf.one_hot(tf.squeeze(y_val), depth=10))\n",
    "y_test = sess.run(tf.one_hot(tf.squeeze(y_test), depth=10))"
   ]
  },
  {
   "cell_type": "code",
   "execution_count": 78,
   "metadata": {},
   "outputs": [
    {
     "name": "stdout",
     "output_type": "stream",
     "text": [
      "0.1113\n",
      "0.8673\n",
      "0.8985\n",
      "0.9118\n",
      "0.9182\n",
      "0.9245\n",
      "0.93\n",
      "0.9345\n",
      "0.9386\n",
      "0.9419\n",
      "0.9435\n",
      "0.946\n",
      "0.948\n",
      "0.9469\n",
      "0.9504\n",
      "0.9522\n",
      "0.9533\n",
      "0.9538\n",
      "0.9556\n",
      "0.9569\n",
      "0.9578\n",
      "0.9584\n",
      "0.9602\n",
      "0.96\n",
      "0.961\n",
      "0.9621\n",
      "0.9617\n",
      "0.963\n",
      "0.9637\n",
      "0.9645\n",
      "0.9649\n",
      "0.9653\n",
      "0.9654\n",
      "0.9659\n",
      "0.9668\n",
      "0.9666\n",
      "0.9669\n",
      "0.9669\n",
      "0.9676\n",
      "0.9675\n",
      "0.9678\n",
      "0.9681\n",
      "0.9685\n",
      "0.969\n",
      "0.9695\n",
      "0.97\n",
      "0.9697\n",
      "0.9697\n",
      "0.9702\n",
      "0.9699\n",
      "0.9694\n",
      "0.9704\n",
      "0.971\n",
      "0.9698\n",
      "0.9708\n",
      "0.9705\n",
      "0.9712\n",
      "0.9713\n",
      "0.9713\n",
      "0.9702\n",
      "0.9708\n",
      "0.9707\n"
     ]
    },
    {
     "ename": "KeyboardInterrupt",
     "evalue": "",
     "output_type": "error",
     "traceback": [
      "\u001b[0;31m---------------------------------------------------------------------------\u001b[0m",
      "\u001b[0;31mKeyboardInterrupt\u001b[0m                         Traceback (most recent call last)",
      "\u001b[0;32m<ipython-input-78-ac932b8abcfb>\u001b[0m in \u001b[0;36m<module>\u001b[0;34m()\u001b[0m\n\u001b[1;32m      1\u001b[0m \u001b[0;32mfor\u001b[0m \u001b[0mi\u001b[0m \u001b[0;32min\u001b[0m \u001b[0mrange\u001b[0m\u001b[0;34m(\u001b[0m\u001b[0;36m100005\u001b[0m\u001b[0;34m)\u001b[0m\u001b[0;34m:\u001b[0m\u001b[0;34m\u001b[0m\u001b[0m\n\u001b[1;32m      2\u001b[0m     \u001b[0mbatch\u001b[0m \u001b[0;34m=\u001b[0m \u001b[0mrandom\u001b[0m\u001b[0;34m.\u001b[0m\u001b[0msample\u001b[0m\u001b[0;34m(\u001b[0m\u001b[0mrange\u001b[0m\u001b[0;34m(\u001b[0m\u001b[0mX_train\u001b[0m\u001b[0;34m.\u001b[0m\u001b[0mshape\u001b[0m\u001b[0;34m[\u001b[0m\u001b[0;36m0\u001b[0m\u001b[0;34m]\u001b[0m\u001b[0;34m)\u001b[0m\u001b[0;34m,\u001b[0m \u001b[0;36m100\u001b[0m\u001b[0;34m)\u001b[0m\u001b[0;34m\u001b[0m\u001b[0m\n\u001b[0;32m----> 3\u001b[0;31m     \u001b[0msess\u001b[0m\u001b[0;34m.\u001b[0m\u001b[0mrun\u001b[0m\u001b[0;34m(\u001b[0m\u001b[0mtrain_step\u001b[0m\u001b[0;34m,\u001b[0m \u001b[0mfeed_dict\u001b[0m\u001b[0;34m=\u001b[0m\u001b[0;34m{\u001b[0m\u001b[0mxs\u001b[0m\u001b[0;34m:\u001b[0m \u001b[0mX_train\u001b[0m\u001b[0;34m[\u001b[0m\u001b[0mbatch\u001b[0m\u001b[0;34m]\u001b[0m\u001b[0;34m,\u001b[0m \u001b[0mys\u001b[0m\u001b[0;34m:\u001b[0m \u001b[0my_train\u001b[0m\u001b[0;34m[\u001b[0m\u001b[0mbatch\u001b[0m\u001b[0;34m]\u001b[0m\u001b[0;34m}\u001b[0m\u001b[0;34m)\u001b[0m\u001b[0;34m\u001b[0m\u001b[0m\n\u001b[0m\u001b[1;32m      4\u001b[0m     \u001b[0;32mif\u001b[0m \u001b[0mi\u001b[0m\u001b[0;34m%\u001b[0m\u001b[0;36m500\u001b[0m\u001b[0;34m==\u001b[0m\u001b[0;36m0\u001b[0m\u001b[0;34m:\u001b[0m\u001b[0;34m\u001b[0m\u001b[0m\n\u001b[1;32m      5\u001b[0m        \u001b[0mprint\u001b[0m \u001b[0;34m(\u001b[0m\u001b[0mcompute_accuracy\u001b[0m\u001b[0;34m(\u001b[0m\u001b[0mX_val\u001b[0m\u001b[0;34m,\u001b[0m \u001b[0my_val\u001b[0m\u001b[0;34m)\u001b[0m\u001b[0;34m)\u001b[0m\u001b[0;34m\u001b[0m\u001b[0m\n",
      "\u001b[0;31mKeyboardInterrupt\u001b[0m: "
     ]
    }
   ],
   "source": [
    "for i in range(100005):\n",
    "    batch = random.sample(range(X_train.shape[0]), 100)\n",
    "    sess.run(train_step, feed_dict={xs: X_train[batch], ys: y_train[batch]})\n",
    "    if i%500==0:\n",
    "       print (compute_accuracy(X_val, y_val))"
   ]
  },
  {
   "cell_type": "code",
   "execution_count": null,
   "metadata": {},
   "outputs": [],
   "source": []
  }
 ],
 "metadata": {
  "kernelspec": {
   "display_name": "Python 3",
   "language": "python",
   "name": "python3"
  },
  "language_info": {
   "codemirror_mode": {
    "name": "ipython",
    "version": 3
   },
   "file_extension": ".py",
   "mimetype": "text/x-python",
   "name": "python",
   "nbconvert_exporter": "python",
   "pygments_lexer": "ipython3",
   "version": "3.5.1"
  }
 },
 "nbformat": 4,
 "nbformat_minor": 2
}

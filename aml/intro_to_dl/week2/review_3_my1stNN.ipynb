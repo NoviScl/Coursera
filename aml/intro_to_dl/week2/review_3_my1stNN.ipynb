{
 "cells": [
  {
   "cell_type": "markdown",
   "metadata": {},
   "source": [
    "Import data and packages"
   ]
  },
  {
   "cell_type": "code",
   "execution_count": 1,
   "metadata": {},
   "outputs": [
    {
     "name": "stderr",
     "output_type": "stream",
     "text": [
      "Using TensorFlow backend.\n"
     ]
    },
    {
     "name": "stdout",
     "output_type": "stream",
     "text": [
      "(50000, 28, 28) (50000,)\n"
     ]
    },
    {
     "data": {
      "image/png": "[encoded data removed]",
      "text/plain": [
       "<matplotlib.figure.Figure at 0x104a98208>"
      ]
     },
     "metadata": {},
     "output_type": "display_data"
    }
   ],
   "source": [
    "from preprocessed_mnist import load_dataset\n",
    "X_train, y_train, X_val, y_val, X_test, y_test = load_dataset()\n",
    "print(X_train.shape, y_train.shape)\n",
    "import matplotlib.pyplot as plt\n",
    "%matplotlib inline\n",
    "plt.imshow(X_train[0], cmap=\"Greys\");"
   ]
  },
  {
   "cell_type": "code",
   "execution_count": 2,
   "metadata": {},
   "outputs": [],
   "source": [
    "import numpy as np\n",
    "import tensorflow as tf\n",
    "s = tf.InteractiveSession()"
   ]
  },
  {
   "cell_type": "markdown",
   "metadata": {},
   "source": [
    "Declaration of variables"
   ]
  },
  {
   "cell_type": "code",
   "execution_count": 3,
   "metadata": {},
   "outputs": [],
   "source": [
    "X_train_flat = X_train.reshape(X_train.shape[0], -1)\n",
    "X_test_flat = X_test.reshape(X_test.shape[0], -1)\n",
    "\n",
    "nb_classes = 10\n",
    "targets = y_train.reshape(-1)\n",
    "y_train_flat = np.eye(nb_classes)[targets]\n",
    "targets_test = y_test.reshape(-1)\n",
    "y_test_flat = np.eye(nb_classes)[targets_test]\n",
    "\n",
    "num = 150\n",
    "batch_size = 500\n",
    "num_iter = 12000"
   ]
  },
  {
   "cell_type": "code",
   "execution_count": 4,
   "metadata": {},
   "outputs": [],
   "source": [
    "input_X = tf.placeholder('float32', shape=(None, X_train_flat.shape[1]))\n",
    "input_y = tf.placeholder('float32', shape=(None, 10))\n",
    "weights = tf.Variable(np.zeros((X_train_flat.shape[1],10),dtype = 'float32')) # tf.Variable(np.random.randint(5, size=(X.shape[1],1))/5.0,dtype=tf.float32) # \n",
    "b = tf.Variable(tf.zeros([10]))"
   ]
  },
  {
   "cell_type": "markdown",
   "metadata": {},
   "source": [
    "Defining nn activation functions, loss and optimizer"
   ]
  },
  {
   "cell_type": "code",
   "execution_count": 5,
   "metadata": {},
   "outputs": [],
   "source": [
    "def hidden_layer_activation(input,size_in,size_out):\n",
    "    WW = tf.Variable(tf.truncated_normal([size_in,size_out],stddev=0.1))\n",
    "    bb = tf.Variable(tf.truncated_normal([size_out],stddev=0.1))\n",
    "    activation = tf.sigmoid(tf.matmul(input,WW)+bb)\n",
    "    return activation\n",
    "def output_layer_activation(input,size_in,size_out):\n",
    "    WW = tf.Variable(tf.truncated_normal([size_in,size_out],stddev=0.1))\n",
    "    bb = tf.Variable(tf.truncated_normal([size_out],stddev=0.1))\n",
    "    activation = tf.nn.softmax(tf.matmul(input,WW)+bb)\n",
    "    return activation\n",
    "\n",
    "\n",
    "hidden = hidden_layer_activation(input_X,784,num)\n",
    "output = output_layer_activation(hidden,num,10)\n",
    "\n",
    "#predicted_y = tf.nn.softmax(tf.matmul(input_X, weights) + b)\n",
    "#loss = tf.nn.softmax_cross_entropy_with_logits(logits = tf.matmul(hidden, weights) + b, labels=input_y)\n",
    "#loss = tf.reduce_mean(-tf.log(output)*input_y -tf.log(1-output)*(1-input_y))\n",
    "loss = tf.reduce_mean(-tf.reduce_sum(input_y * tf.log(output), reduction_indices=[1]))\n",
    "optimizer = tf.train.GradientDescentOptimizer(1.0).minimize(loss)\n",
    "correct_prediction = tf.equal(tf.argmax(output,1), tf.argmax(input_y,1))\n",
    "accuracy = tf.reduce_mean(tf.cast(correct_prediction, tf.float32))"
   ]
  },
  {
   "cell_type": "markdown",
   "metadata": {},
   "source": [
    "Running optimization"
   ]
  },
  {
   "cell_type": "code",
   "execution_count": 6,
   "metadata": {
    "scrolled": true
   },
   "outputs": [
    {
     "name": "stdout",
     "output_type": "stream",
     "text": [
      "train accuracy no  500  : 92.7879989147 %\n",
      "test accuracy no  500  : 92.9300010204 %\n",
      "Current execution time:  0.1992199659347534  minutes\n",
      "train accuracy no  1000  : 94.6640014648 %\n",
      "test accuracy no  1000  : 94.5699989796 %\n",
      "Current execution time:  0.37173771460851035  minutes\n",
      "train accuracy no  1500  : 95.9919989109 %\n",
      "test accuracy no  1500  : 95.8100020885 %\n",
      "Current execution time:  0.5882510344187418  minutes\n",
      "train accuracy no  2000  : 96.850001812 %\n",
      "test accuracy no  2000  : 96.3100016117 %\n",
      "Current execution time:  0.7560360511144002  minutes\n",
      "train accuracy no  2500  : 97.42000103 %\n",
      "test accuracy no  2500  : 96.6400027275 %\n",
      "Current execution time:  0.9477414011955261  minutes\n",
      "train accuracy no  3000  : 97.9219973087 %\n",
      "test accuracy no  3000  : 96.9399988651 %\n",
      "Current execution time:  1.1294203996658325  minutes\n",
      "train accuracy no  3500  : 98.189997673 %\n",
      "test accuracy no  3500  : 97.1499979496 %\n",
      "Current execution time:  1.3025692661603292  minutes\n",
      "train accuracy no  4000  : 98.5080003738 %\n",
      "test accuracy no  4000  : 97.310000658 %\n",
      "Current execution time:  1.5368706146876017  minutes\n",
      "train accuracy no  4500  : 98.7079977989 %\n",
      "test accuracy no  4500  : 97.3999977112 %\n",
      "Current execution time:  1.70888751745224  minutes\n",
      "train accuracy no  5000  : 98.9260017872 %\n",
      "test accuracy no  5000  : 97.5199997425 %\n",
      "Current execution time:  1.8716303348541259  minutes\n",
      "train accuracy no  5500  : 99.0859985352 %\n",
      "test accuracy no  5500  : 97.6100027561 %\n",
      "Current execution time:  2.0413751165072123  minutes\n",
      "train accuracy no  6000  : 99.1859972477 %\n",
      "test accuracy no  6000  : 97.6100027561 %\n",
      "Current execution time:  2.2570356011390684  minutes\n",
      "train accuracy no  6500  : 99.3300020695 %\n",
      "test accuracy no  6500  : 97.6499974728 %\n",
      "Current execution time:  2.4441256483395892  minutes\n",
      "train accuracy no  7000  : 99.4579970837 %\n",
      "test accuracy no  7000  : 97.6999998093 %\n",
      "Current execution time:  2.639383598168691  minutes\n",
      "train accuracy no  7500  : 99.5620012283 %\n",
      "test accuracy no  7500  : 97.7999985218 %\n",
      "Current execution time:  2.8222253998120626  minutes\n",
      "train accuracy no  8000  : 99.5980024338 %\n",
      "test accuracy no  8000  : 97.7900028229 %\n",
      "Current execution time:  3.0569591482480365  minutes\n",
      "train accuracy no  8500  : 99.6720016003 %\n",
      "test accuracy no  8500  : 97.8699982166 %\n",
      "Current execution time:  3.2595562815666197  minutes\n",
      "train accuracy no  9000  : 99.739998579 %\n",
      "test accuracy no  9000  : 97.8200018406 %\n",
      "Current execution time:  3.474548081556956  minutes\n",
      "train accuracy no  9500  : 99.7539997101 %\n",
      "test accuracy no  9500  : 97.8100001812 %\n",
      "Current execution time:  3.715260132153829  minutes\n",
      "train accuracy no  10000  : 99.8179972172 %\n",
      "test accuracy no  10000  : 97.7900028229 %\n",
      "Current execution time:  3.943204700946808  minutes\n",
      "train accuracy no  10500  : 99.8399972916 %\n",
      "test accuracy no  10500  : 97.8500008583 %\n",
      "Current execution time:  4.170965015888214  minutes\n",
      "train accuracy no  11000  : 99.8799979687 %\n",
      "test accuracy no  11000  : 97.8999972343 %\n",
      "Current execution time:  4.343965331713359  minutes\n",
      "train accuracy no  11500  : 99.8780012131 %\n",
      "test accuracy no  11500  : 97.9099988937 %\n",
      "Current execution time:  4.548119266827901  minutes\n",
      "train accuracy no  12000  : 99.9199986458 %\n",
      "test accuracy no  12000  : 97.8699982166 %\n",
      "Current execution time:  4.745294849077861  minutes\n"
     ]
    }
   ],
   "source": [
    "loss_train = []\n",
    "loss_test = []\n",
    "iterations = []\n",
    "from sklearn.metrics import roc_auc_score\n",
    "import time\n",
    "s.run(tf.global_variables_initializer())\n",
    "start_time = time.time()\n",
    "for i in range(num_iter):\n",
    "    batch = np.random.choice(X_train_flat.shape[0], batch_size)\n",
    "    s.run(optimizer, {input_X: X_train_flat[batch,:], input_y: y_train_flat[batch,:]})\n",
    "    if (i+1)%500==0:\n",
    "        loss_train_i = s.run(loss, {input_X: X_train_flat, input_y: y_train_flat})\n",
    "        loss_test_i = s.run(loss, {input_X: X_test_flat, input_y: y_test_flat})\n",
    "        loss_train.append(loss_train_i)\n",
    "        loss_test.append(loss_test_i)\n",
    "        iterations.append(i+1)\n",
    "        #print(\"loss at iter %i:%.4f\" % (i, loss_i))\n",
    "        #print(\"train auc:\", roc_auc_score(y_train_flat, s.run(output, {input_X:X_train_flat})))\n",
    "        a = s.run(accuracy, feed_dict={input_X: X_train_flat, input_y: y_train_flat})\n",
    "        print(\"train accuracy no \",i+1,\" :\",a*100,\"%\")\n",
    "        a2 = s.run(accuracy, feed_dict={input_X: X_test_flat,input_y: y_test_flat})\n",
    "        #a2 = accuracy.eval(feed_dict={input_X: X_test_flat, input_y: y_test_flat})\n",
    "        print(\"test accuracy no \",i+1,\" :\",a2*100,\"%\")\n",
    "        print(\"Current execution time: \",(time.time()-start_time)/60, \" minutes\")\n",
    "        #print(\"test auc:\", roc_auc_score(y_test_flat, s.run(output, {input_X:X_test_flat})))"
   ]
  },
  {
   "cell_type": "markdown",
   "metadata": {},
   "source": [
    "Accuracy of test set"
   ]
  },
  {
   "cell_type": "code",
   "execution_count": 7,
   "metadata": {},
   "outputs": [
    {
     "name": "stdout",
     "output_type": "stream",
     "text": [
      "final test accuracy : 97.8699982166 %\n"
     ]
    }
   ],
   "source": [
    "acc = s.run(accuracy, feed_dict={input_X: X_test_flat,input_y: y_test_flat})\n",
    "print(\"final test accuracy :\",acc*100,\"%\")"
   ]
  },
  {
   "cell_type": "markdown",
   "metadata": {},
   "source": [
    "Train and test loss chart"
   ]
  },
  {
   "cell_type": "code",
   "execution_count": 8,
   "metadata": {},
   "outputs": [
    {
     "data": {
      "image/png": "[encoded data removed]",
      "text/plain": [
       "<matplotlib.figure.Figure at 0x12f5cad30>"
      ]
     },
     "metadata": {},
     "output_type": "display_data"
    }
   ],
   "source": [
    "%matplotlib inline\n",
    "plt.plot(iterations,loss_train,'r--',label='train loss')\n",
    "plt.plot(iterations,loss_test,'b--',label='test loss')\n",
    "plt.legend()\n",
    "plt.show()"
   ]
  },
  {
   "cell_type": "code",
   "execution_count": null,
   "metadata": {},
   "outputs": [],
   "source": []
  }
 ],
 "metadata": {
  "kernelspec": {
   "display_name": "Python 3",
   "language": "python",
   "name": "python3"
  },
  "language_info": {
   "codemirror_mode": {
    "name": "ipython",
    "version": 3
   },
   "file_extension": ".py",
   "mimetype": "text/x-python",
   "name": "python",
   "nbconvert_exporter": "python",
   "pygments_lexer": "ipython3",
   "version": "3.5.1"
  }
 },
 "nbformat": 4,
 "nbformat_minor": 2
}

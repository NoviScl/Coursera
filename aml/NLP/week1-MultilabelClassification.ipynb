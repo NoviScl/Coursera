{
 "cells": [
  {
   "cell_type": "markdown",
   "metadata": {},
   "source": [
    "# Predict tags on StackOverflow with linear models"
   ]
  },
  {
   "cell_type": "markdown",
   "metadata": {},
   "source": [
    "In this assignment you will learn how to predict tags for posts from [StackOverflow](https://stackoverflow.com). To solve this task you will use multilabel classification approach.\n",
    "\n",
    "### Libraries\n",
    "\n",
    "In this task you will need the following libraries:\n",
    "- [Numpy](http://www.numpy.org) — a package for scientific computing.\n",
    "- [Pandas](https://pandas.pydata.org) — a library providing high-performance, easy-to-use data structures and data analysis tools for the Python\n",
    "- [scikit-learn](http://scikit-learn.org/stable/index.html) — a tool for data mining and data analysis.\n",
    "- [NLTK](http://www.nltk.org) — a platform to work with natural language."
   ]
  },
  {
   "cell_type": "markdown",
   "metadata": {},
   "source": [
    "### Data\n",
    "\n",
    "The following cell will download all data required for this assignment into the folder `week1/data`."
   ]
  },
  {
   "cell_type": "code",
   "execution_count": 12,
   "metadata": {},
   "outputs": [
    {
     "data": {
      "application/vnd.jupyter.widget-view+json": {
       "model_id": "3e7bc0d35b004a99af6efb7136a8985e",
       "version_major": 2,
       "version_minor": 0
      },
      "text/html": [
       "<p>Failed to display Jupyter Widget of type <code>HBox</code>.</p>\n",
       "<p>\n",
       "  If you're reading this message in the Jupyter Notebook or JupyterLab Notebook, it may mean\n",
       "  that the widgets JavaScript is still loading. If this message persists, it\n",
       "  likely means that the widgets JavaScript library is either not installed or\n",
       "  not enabled. See the <a href=\"https://ipywidgets.readthedocs.io/en/stable/user_install.html\">Jupyter\n",
       "  Widgets Documentation</a> for setup instructions.\n",
       "</p>\n",
       "<p>\n",
       "  If you're reading this message in another frontend (for example, a static\n",
       "  rendering on GitHub or <a href=\"https://nbviewer.jupyter.org/\">NBViewer</a>),\n",
       "  it may mean that your frontend doesn't currently support widgets.\n",
       "</p>\n"
      ],
      "text/plain": [
       "HBox(children=(IntProgress(value=0, max=7196138), HTML(value='')))"
      ]
     },
     "metadata": {},
     "output_type": "display_data"
    },
    {
     "name": "stdout",
     "output_type": "stream",
     "text": [
      "\n",
      "File data/validation.tsv is already downloaded.\n",
      "File data/test.tsv is already downloaded.\n",
      "File data/text_prepare_tests.tsv is already downloaded.\n"
     ]
    }
   ],
   "source": [
    "import sys\n",
    "sys.path.append(\"..\")\n",
    "from common.download_utils import download_week1_resources\n",
    "\n",
    "download_week1_resources()"
   ]
  },
  {
   "cell_type": "markdown",
   "metadata": {},
   "source": [
    "### Grading\n",
    "We will create a grader instance below and use it to collect your answers. Note that these outputs will be stored locally inside grader and will be uploaded to platform only after running submitting function in the last part of this assignment. If you want to make partial submission, you can run that cell any time you want."
   ]
  },
  {
   "cell_type": "code",
   "execution_count": 2,
   "metadata": {},
   "outputs": [],
   "source": [
    "from grader import Grader"
   ]
  },
  {
   "cell_type": "code",
   "execution_count": 3,
   "metadata": {},
   "outputs": [],
   "source": [
    "grader = Grader()"
   ]
  },
  {
   "cell_type": "markdown",
   "metadata": {},
   "source": [
    "### Text preprocessing"
   ]
  },
  {
   "cell_type": "markdown",
   "metadata": {},
   "source": [
    "For this and most of the following assignments you will need to use a list of stop words. It can be downloaded from *nltk*:"
   ]
  },
  {
   "cell_type": "code",
   "execution_count": 13,
   "metadata": {},
   "outputs": [],
   "source": [
    "import nltk\n",
    "#nltk.download('stopwords')\n",
    "from nltk.corpus import stopwords"
   ]
  },
  {
   "cell_type": "markdown",
   "metadata": {},
   "source": [
    "In this task you will deal with a dataset of post titles from StackOverflow. You are provided a split to 3 sets: *train*, *validation* and *test*. All corpora (except for *test*) contain titles of the posts and corresponding tags (100 tags are available). The *test* set is provided for Coursera's grading and doesn't contain answers. Upload the corpora using *pandas* and look at the data:"
   ]
  },
  {
   "cell_type": "code",
   "execution_count": 14,
   "metadata": {},
   "outputs": [],
   "source": [
    "from ast import literal_eval\n",
    "import pandas as pd\n",
    "import numpy as np"
   ]
  },
  {
   "cell_type": "code",
   "execution_count": 15,
   "metadata": {},
   "outputs": [],
   "source": [
    "def read_data(filename):\n",
    "    data = pd.read_csv(filename, sep='\\t')\n",
    "    data['tags'] = data['tags'].apply(literal_eval)\n",
    "    return data"
   ]
  },
  {
   "cell_type": "code",
   "execution_count": 16,
   "metadata": {},
   "outputs": [],
   "source": [
    "train = read_data('data/train.tsv')\n",
    "validation = read_data('data/validation.tsv')\n",
    "test = pd.read_csv('data/test.tsv', sep='\\t')"
   ]
  },
  {
   "cell_type": "code",
   "execution_count": 17,
   "metadata": {},
   "outputs": [
    {
     "data": {
      "text/html": [
       "<div>\n",
       "<style scoped>\n",
       "    .dataframe tbody tr th:only-of-type {\n",
       "        vertical-align: middle;\n",
       "    }\n",
       "\n",
       "    .dataframe tbody tr th {\n",
       "        vertical-align: top;\n",
       "    }\n",
       "\n",
       "    .dataframe thead th {\n",
       "        text-align: right;\n",
       "    }\n",
       "</style>\n",
       "<table border=\"1\" class=\"dataframe\">\n",
       "  <thead>\n",
       "    <tr style=\"text-align: right;\">\n",
       "      <th></th>\n",
       "      <th>title</th>\n",
       "      <th>tags</th>\n",
       "    </tr>\n",
       "  </thead>\n",
       "  <tbody>\n",
       "    <tr>\n",
       "      <th>0</th>\n",
       "      <td>How to draw a stacked dotplot in R?</td>\n",
       "      <td>[r]</td>\n",
       "    </tr>\n",
       "    <tr>\n",
       "      <th>1</th>\n",
       "      <td>mysql select all records where a datetime fiel...</td>\n",
       "      <td>[php, mysql]</td>\n",
       "    </tr>\n",
       "    <tr>\n",
       "      <th>2</th>\n",
       "      <td>How to terminate windows phone 8.1 app</td>\n",
       "      <td>[c#]</td>\n",
       "    </tr>\n",
       "    <tr>\n",
       "      <th>3</th>\n",
       "      <td>get current time in a specific country via jquery</td>\n",
       "      <td>[javascript, jquery]</td>\n",
       "    </tr>\n",
       "    <tr>\n",
       "      <th>4</th>\n",
       "      <td>Configuring Tomcat to Use SSL</td>\n",
       "      <td>[java]</td>\n",
       "    </tr>\n",
       "  </tbody>\n",
       "</table>\n",
       "</div>"
      ],
      "text/plain": [
       "                                               title                  tags\n",
       "0                How to draw a stacked dotplot in R?                   [r]\n",
       "1  mysql select all records where a datetime fiel...          [php, mysql]\n",
       "2             How to terminate windows phone 8.1 app                  [c#]\n",
       "3  get current time in a specific country via jquery  [javascript, jquery]\n",
       "4                      Configuring Tomcat to Use SSL                [java]"
      ]
     },
     "execution_count": 17,
     "metadata": {},
     "output_type": "execute_result"
    }
   ],
   "source": [
    "train.head()"
   ]
  },
  {
   "cell_type": "markdown",
   "metadata": {},
   "source": [
    "As you can see, *title* column contains titles of the posts and *tags* column contains the tags. It could be noticed that a number of tags for a post is not fixed and could be as many as necessary."
   ]
  },
  {
   "cell_type": "markdown",
   "metadata": {},
   "source": [
    "For a more comfortable usage, initialize *X_train*, *X_val*, *X_test*, *y_train*, *y_val*."
   ]
  },
  {
   "cell_type": "code",
   "execution_count": 18,
   "metadata": {},
   "outputs": [],
   "source": [
    "X_train, y_train = train['title'].values, train['tags'].values\n",
    "X_val, y_val = validation['title'].values, validation['tags'].values\n",
    "X_test = test['title'].values"
   ]
  },
  {
   "cell_type": "markdown",
   "metadata": {},
   "source": [
    "One of the most known difficulties when working with natural data is that it's unstructured. For example, if you use it \"as is\" and extract tokens just by splitting the titles by whitespaces, you will see that there are many \"weird\" tokens like *3.5?*, *\"Flip*, etc. To prevent the problems, it's usually useful to prepare the data somehow. In this task you'll write a function, which will be also used in the other assignments. \n",
    "\n",
    "**Task 1 (TextPrepare).** Implement the function *text_prepare* following the instructions. After that, run the function *test_text_prepare* to test it on tiny cases and submit it to Coursera."
   ]
  },
  {
   "cell_type": "code",
   "execution_count": 23,
   "metadata": {},
   "outputs": [],
   "source": [
    "import re"
   ]
  },
  {
   "cell_type": "code",
   "execution_count": 47,
   "metadata": {},
   "outputs": [
    {
     "data": {
      "text/plain": [
       "{'a',\n",
       " 'about',\n",
       " 'above',\n",
       " 'after',\n",
       " 'again',\n",
       " 'against',\n",
       " 'ain',\n",
       " 'all',\n",
       " 'am',\n",
       " 'an',\n",
       " 'and',\n",
       " 'any',\n",
       " 'are',\n",
       " 'aren',\n",
       " \"aren't\",\n",
       " 'as',\n",
       " 'at',\n",
       " 'be',\n",
       " 'because',\n",
       " 'been',\n",
       " 'before',\n",
       " 'being',\n",
       " 'below',\n",
       " 'between',\n",
       " 'both',\n",
       " 'but',\n",
       " 'by',\n",
       " 'can',\n",
       " 'couldn',\n",
       " \"couldn't\",\n",
       " 'd',\n",
       " 'did',\n",
       " 'didn',\n",
       " \"didn't\",\n",
       " 'do',\n",
       " 'does',\n",
       " 'doesn',\n",
       " \"doesn't\",\n",
       " 'doing',\n",
       " 'don',\n",
       " \"don't\",\n",
       " 'down',\n",
       " 'during',\n",
       " 'each',\n",
       " 'few',\n",
       " 'for',\n",
       " 'from',\n",
       " 'further',\n",
       " 'had',\n",
       " 'hadn',\n",
       " \"hadn't\",\n",
       " 'has',\n",
       " 'hasn',\n",
       " \"hasn't\",\n",
       " 'have',\n",
       " 'haven',\n",
       " \"haven't\",\n",
       " 'having',\n",
       " 'he',\n",
       " 'her',\n",
       " 'here',\n",
       " 'hers',\n",
       " 'herself',\n",
       " 'him',\n",
       " 'himself',\n",
       " 'his',\n",
       " 'how',\n",
       " 'i',\n",
       " 'if',\n",
       " 'in',\n",
       " 'into',\n",
       " 'is',\n",
       " 'isn',\n",
       " \"isn't\",\n",
       " 'it',\n",
       " \"it's\",\n",
       " 'its',\n",
       " 'itself',\n",
       " 'just',\n",
       " 'll',\n",
       " 'm',\n",
       " 'ma',\n",
       " 'me',\n",
       " 'mightn',\n",
       " \"mightn't\",\n",
       " 'more',\n",
       " 'most',\n",
       " 'mustn',\n",
       " \"mustn't\",\n",
       " 'my',\n",
       " 'myself',\n",
       " 'needn',\n",
       " \"needn't\",\n",
       " 'no',\n",
       " 'nor',\n",
       " 'not',\n",
       " 'now',\n",
       " 'o',\n",
       " 'of',\n",
       " 'off',\n",
       " 'on',\n",
       " 'once',\n",
       " 'only',\n",
       " 'or',\n",
       " 'other',\n",
       " 'our',\n",
       " 'ours',\n",
       " 'ourselves',\n",
       " 'out',\n",
       " 'over',\n",
       " 'own',\n",
       " 're',\n",
       " 's',\n",
       " 'same',\n",
       " 'shan',\n",
       " \"shan't\",\n",
       " 'she',\n",
       " \"she's\",\n",
       " 'should',\n",
       " \"should've\",\n",
       " 'shouldn',\n",
       " \"shouldn't\",\n",
       " 'so',\n",
       " 'some',\n",
       " 'such',\n",
       " 't',\n",
       " 'than',\n",
       " 'that',\n",
       " \"that'll\",\n",
       " 'the',\n",
       " 'their',\n",
       " 'theirs',\n",
       " 'them',\n",
       " 'themselves',\n",
       " 'then',\n",
       " 'there',\n",
       " 'these',\n",
       " 'they',\n",
       " 'this',\n",
       " 'those',\n",
       " 'through',\n",
       " 'to',\n",
       " 'too',\n",
       " 'under',\n",
       " 'until',\n",
       " 'up',\n",
       " 've',\n",
       " 'very',\n",
       " 'was',\n",
       " 'wasn',\n",
       " \"wasn't\",\n",
       " 'we',\n",
       " 'were',\n",
       " 'weren',\n",
       " \"weren't\",\n",
       " 'what',\n",
       " 'when',\n",
       " 'where',\n",
       " 'which',\n",
       " 'while',\n",
       " 'who',\n",
       " 'whom',\n",
       " 'why',\n",
       " 'will',\n",
       " 'with',\n",
       " 'won',\n",
       " \"won't\",\n",
       " 'wouldn',\n",
       " \"wouldn't\",\n",
       " 'y',\n",
       " 'you',\n",
       " \"you'd\",\n",
       " \"you'll\",\n",
       " \"you're\",\n",
       " \"you've\",\n",
       " 'your',\n",
       " 'yours',\n",
       " 'yourself',\n",
       " 'yourselves'}"
      ]
     },
     "execution_count": 47,
     "metadata": {},
     "output_type": "execute_result"
    }
   ],
   "source": [
    "STOPWORDS = set(stopwords.words('english'))\n",
    "STOPWORDS"
   ]
  },
  {
   "cell_type": "code",
   "execution_count": 68,
   "metadata": {},
   "outputs": [],
   "source": [
    "REPLACE_BY_SPACE_RE = re.compile('[/(){}\\[\\]\\|@,;]')\n",
    "BAD_SYMBOLS_RE = re.compile('[^0-9a-z #+_]')\n",
    "STOPWORDS = set(stopwords.words('english'))\n",
    "\n",
    "def text_prepare(text):\n",
    "    \"\"\"\n",
    "        text: a string\n",
    "        \n",
    "        return: modified initial string\n",
    "    \"\"\"\n",
    "    text = text.lower()\n",
    "    text = re.sub(REPLACE_BY_SPACE_RE, ' ', text)\n",
    "    text = re.sub(BAD_SYMBOLS_RE, '', text)\n",
    "    words = text.split()\n",
    "    words = [word for word in words if word not in STOPWORDS]\n",
    "    text = ' '.join(words)\n",
    "    if text[0] == ' ':\n",
    "        text = text[1:]\n",
    "    if text[-1] == ' ':\n",
    "        text = text[:-1]\n",
    "    return text"
   ]
  },
  {
   "cell_type": "code",
   "execution_count": 69,
   "metadata": {},
   "outputs": [],
   "source": [
    "def test_text_prepare():\n",
    "    examples = [\"SQL Server - any equivalent of Excel's CHOOSE function?\",\n",
    "                \"How to free c++ memory vector<int> * arr?\"]\n",
    "    answers = [\"sql server equivalent excels choose function\", \n",
    "               \"free c++ memory vectorint arr\"]\n",
    "    for ex, ans in zip(examples, answers):\n",
    "        if text_prepare(ex) != ans:\n",
    "            print (text_prepare(ex))\n",
    "            return \"Wrong answer for the case: '%s'\" % ex\n",
    "    return 'Basic tests are passed.'"
   ]
  },
  {
   "cell_type": "code",
   "execution_count": 70,
   "metadata": {},
   "outputs": [
    {
     "name": "stdout",
     "output_type": "stream",
     "text": [
      "Basic tests are passed.\n"
     ]
    }
   ],
   "source": [
    "print(test_text_prepare())"
   ]
  },
  {
   "cell_type": "markdown",
   "metadata": {},
   "source": [
    "Run your implementation for questions from file *text_prepare_tests.tsv* to earn the points."
   ]
  },
  {
   "cell_type": "code",
   "execution_count": 71,
   "metadata": {},
   "outputs": [
    {
     "name": "stdout",
     "output_type": "stream",
     "text": [
      "Current answer for task TextPrepare is:\n",
      " sqlite php readonly\n",
      "creating multiple textboxes dynamically\n",
      "self one prefer javascript\n",
      "save php date...\n"
     ]
    }
   ],
   "source": [
    "prepared_questions = []\n",
    "for line in open('data/text_prepare_tests.tsv', encoding='utf-8'):\n",
    "    line = text_prepare(line.strip())\n",
    "    prepared_questions.append(line)\n",
    "text_prepare_results = '\\n'.join(prepared_questions)\n",
    "\n",
    "grader.submit_tag('TextPrepare', text_prepare_results)"
   ]
  },
  {
   "cell_type": "markdown",
   "metadata": {},
   "source": [
    "Now we can preprocess the titles using function *text_prepare* and  making sure that the headers don't have bad symbols:"
   ]
  },
  {
   "cell_type": "code",
   "execution_count": 72,
   "metadata": {},
   "outputs": [],
   "source": [
    "X_train = [text_prepare(x) for x in X_train]\n",
    "X_val = [text_prepare(x) for x in X_val]\n",
    "X_test = [text_prepare(x) for x in X_test]"
   ]
  },
  {
   "cell_type": "code",
   "execution_count": 73,
   "metadata": {},
   "outputs": [
    {
     "data": {
      "text/plain": [
       "['draw stacked dotplot r',\n",
       " 'mysql select records datetime field less specified value',\n",
       " 'terminate windows phone 81 app']"
      ]
     },
     "execution_count": 73,
     "metadata": {},
     "output_type": "execute_result"
    }
   ],
   "source": [
    "X_train[:3]"
   ]
  },
  {
   "cell_type": "markdown",
   "metadata": {},
   "source": [
    "For each tag and for each word calculate how many times they occur in the train corpus. \n",
    "\n",
    "**Task 2 (WordsTagsCount).** Find 3 most popular tags and 3 most popular words in the train data and submit the results to earn the points."
   ]
  },
  {
   "cell_type": "code",
   "execution_count": 79,
   "metadata": {},
   "outputs": [],
   "source": [
    "from collections import Counter\n",
    "\n",
    "# Dictionary of all tags from train corpus with their counts.\n",
    "tags_counts = Counter()\n",
    "# Dictionary of all words from train corpus with their counts.\n",
    "words_counts = Counter()\n",
    "\n",
    "for sentence in X_train:\n",
    "    for word in sentence.split():\n",
    "        words_counts[word] += 1\n",
    "\n",
    "for tag in y_train:\n",
    "    for t in tag:\n",
    "        tags_counts[t] += 1\n"
   ]
  },
  {
   "cell_type": "markdown",
   "metadata": {},
   "source": [
    "We are assuming that *tags_counts* and *words_counts* are dictionaries like `{'some_word_or_tag': frequency}`. After applying the sorting procedure, results will be look like this: `[('most_popular_word_or_tag', frequency), ('less_popular_word_or_tag', frequency), ...]`. The grader gets the results in the following format (two comma-separated strings with line break):\n",
    "\n",
    "    tag1,tag2,tag3\n",
    "    word1,word2,word3\n",
    "\n",
    "Pay attention that in this assignment you should not submit frequencies or some additional information."
   ]
  },
  {
   "cell_type": "code",
   "execution_count": 80,
   "metadata": {},
   "outputs": [
    {
     "name": "stdout",
     "output_type": "stream",
     "text": [
      "Current answer for task WordsTagsCount is:\n",
      " javascript,c#,java\n",
      "using,php,java...\n"
     ]
    }
   ],
   "source": [
    "most_common_tags = sorted(tags_counts.items(), key=lambda x: x[1], reverse=True)[:3]\n",
    "most_common_words = sorted(words_counts.items(), key=lambda x: x[1], reverse=True)[:3]\n",
    "\n",
    "grader.submit_tag('WordsTagsCount', '%s\\n%s' % (','.join(tag for tag, _ in most_common_tags), \n",
    "                                                ','.join(word for word, _ in most_common_words)))"
   ]
  },
  {
   "cell_type": "markdown",
   "metadata": {},
   "source": [
    "### Transforming text to a vector\n",
    "\n",
    "Machine Learning algorithms work with numeric data and we cannot use the provided text data \"as is\". There are many ways to transform text data to numeric vectors. In this task you will try to use two of them.\n",
    "\n",
    "#### Bag of words\n",
    "\n",
    "One of the well-known approaches is a *bag-of-words* representation. To create this transformation, follow the steps:\n",
    "1. Find *N* most popular words in train corpus and numerate them. Now we have a dictionary of the most popular words.\n",
    "2. For each title in the corpora create a zero vector with the dimension equals to *N*.\n",
    "3. For each text in the corpora iterate over words which are in the dictionary and increase by 1 the corresponding coordinate.\n",
    "\n",
    "Let's try to do it for a toy example. Imagine that we have *N* = 4 and the list of the most popular words is \n",
    "\n",
    "    ['hi', 'you', 'me', 'are']\n",
    "\n",
    "Then we need to numerate them, for example, like this: \n",
    "\n",
    "    {'hi': 0, 'you': 1, 'me': 2, 'are': 3}\n",
    "\n",
    "And we have the text, which we want to transform to the vector:\n",
    "\n",
    "    'hi how are you'\n",
    "\n",
    "For this text we create a corresponding zero vector \n",
    "\n",
    "    [0, 0, 0, 0]\n",
    "    \n",
    "And iterate over all words, and if the word is in the dictionary, we increase the value of the corresponding position in the vector:\n",
    "\n",
    "    'hi':  [1, 0, 0, 0]\n",
    "    'how': [1, 0, 0, 0] # word 'how' is not in our dictionary\n",
    "    'are': [1, 0, 0, 1]\n",
    "    'you': [1, 1, 0, 1]\n",
    "\n",
    "The resulting vector will be \n",
    "\n",
    "    [1, 1, 0, 1]\n",
    "   \n",
    "Implement the described encoding in the function *my_bag_of_words* with the size of the dictionary equals to 5000. To find the most common words use train data. You can test your code using the function *test_my_bag_of_words*."
   ]
  },
  {
   "cell_type": "code",
   "execution_count": 83,
   "metadata": {},
   "outputs": [
    {
     "data": {
      "text/plain": [
       "Counter({'accomplish': 5,\n",
       "         'filesjavajdk170_79binjavaexe': 1,\n",
       "         'getrange': 1,\n",
       "         'bindingexpression': 3,\n",
       "         'oracledb': 1,\n",
       "         'inspired': 1,\n",
       "         'argv': 11,\n",
       "         'unpackage': 1,\n",
       "         'mapinteger': 4,\n",
       "         'assertconfigurationisvalid': 1,\n",
       "         'stdsetlower_bound': 1,\n",
       "         'structure': 238,\n",
       "         'terminator': 3,\n",
       "         'image_tag': 4,\n",
       "         'respond_with': 4,\n",
       "         'canexecute': 2,\n",
       "         'dlg': 1,\n",
       "         'load': 912,\n",
       "         'hovermenuextender': 1,\n",
       "         'nginxconf': 1,\n",
       "         'stapler': 1,\n",
       "         'loadedtnx': 1,\n",
       "         'ressend': 2,\n",
       "         'renderbody': 1,\n",
       "         'actionarguments': 1,\n",
       "         'typegettype': 3,\n",
       "         'nslocale': 1,\n",
       "         'bare': 3,\n",
       "         'peaks': 1,\n",
       "         'avurlasset': 1,\n",
       "         'bdk': 1,\n",
       "         'btnsaveclick': 1,\n",
       "         'devtool': 1,\n",
       "         'racing': 2,\n",
       "         'excels': 1,\n",
       "         'img_load': 2,\n",
       "         'decodings': 1,\n",
       "         '0xae': 1,\n",
       "         'http_basic_authenticate_with': 1,\n",
       "         'ienumerableexcept': 1,\n",
       "         'devexpress': 34,\n",
       "         'translate': 31,\n",
       "         'stand': 18,\n",
       "         'containerservlet': 1,\n",
       "         'concept': 11,\n",
       "         'indexer': 7,\n",
       "         'connectionpooldatasource': 1,\n",
       "         'oauth2serverlaravel': 1,\n",
       "         'exec': 68,\n",
       "         'float32': 1,\n",
       "         'fbgraphapi': 1,\n",
       "         'switchcase': 7,\n",
       "         'myappcertificatecrt': 1,\n",
       "         'jtree': 3,\n",
       "         'autoincremented': 1,\n",
       "         'tableadapter': 1,\n",
       "         'openssl': 44,\n",
       "         'subcategory': 5,\n",
       "         'cryptdecrypt': 1,\n",
       "         'ienumeratorcurrent': 1,\n",
       "         'converted': 56,\n",
       "         'inlcude': 1,\n",
       "         'messing': 6,\n",
       "         'exit_on_close': 1,\n",
       "         'jui': 1,\n",
       "         'interviewstreet': 1,\n",
       "         'crc': 2,\n",
       "         'savechanges': 4,\n",
       "         'spreadsheets': 5,\n",
       "         'idictionary': 5,\n",
       "         'javautilfunction': 1,\n",
       "         'transcoder': 1,\n",
       "         'c2783': 1,\n",
       "         'patchobject': 1,\n",
       "         'scrolling': 144,\n",
       "         'textbox1text': 1,\n",
       "         'mockitos': 1,\n",
       "         'dealer': 1,\n",
       "         'jdbccategorydataset': 1,\n",
       "         'unpacking': 4,\n",
       "         'reuseidentifier': 2,\n",
       "         '1#ind': 1,\n",
       "         'webworkers': 1,\n",
       "         'blowing': 1,\n",
       "         'portal': 3,\n",
       "         'backward': 9,\n",
       "         'declarations': 15,\n",
       "         'stdsetinsert': 2,\n",
       "         'javalangdouble': 1,\n",
       "         'bodmas': 1,\n",
       "         'reocur': 1,\n",
       "         'jbas011859': 1,\n",
       "         'quietly': 1,\n",
       "         'digit': 52,\n",
       "         'save': 592,\n",
       "         'columnexpression': 1,\n",
       "         'nonclustered': 1,\n",
       "         'reifiable': 1,\n",
       "         'built': 36,\n",
       "         '0x80131904': 2,\n",
       "         'postmeta': 1,\n",
       "         'mime': 26,\n",
       "         'avatar': 2,\n",
       "         'matplotlib': 230,\n",
       "         'libcurl': 4,\n",
       "         'photosupload': 1,\n",
       "         'phonegaps': 3,\n",
       "         'qdialog': 3,\n",
       "         'oschdir': 3,\n",
       "         'c3p0': 1,\n",
       "         'dataloadingtext': 1,\n",
       "         'wp_mail': 2,\n",
       "         'children': 79,\n",
       "         'javaxs': 1,\n",
       "         'initial': 59,\n",
       "         'wximage': 2,\n",
       "         'reliability': 2,\n",
       "         'phpexcel_worksheetupdatecachedata': 1,\n",
       "         'mozilla': 8,\n",
       "         'predicting': 1,\n",
       "         'wsgirequest': 5,\n",
       "         'extracts': 1,\n",
       "         'android_asset': 2,\n",
       "         'pack1': 1,\n",
       "         'getcount': 1,\n",
       "         'spec': 19,\n",
       "         'getlocationinwindow': 1,\n",
       "         '9813': 1,\n",
       "         'greasemonkey': 22,\n",
       "         'presentationframework': 1,\n",
       "         '0x751fc52f': 1,\n",
       "         'objectforkey': 6,\n",
       "         'winsock': 1,\n",
       "         'qunit': 2,\n",
       "         'pdfs': 12,\n",
       "         'connectiong': 1,\n",
       "         'pysqlite2': 1,\n",
       "         'injectormodulerr': 1,\n",
       "         'urlconnection#getoutputstream': 1,\n",
       "         'harm': 1,\n",
       "         'codec': 25,\n",
       "         '#1265': 1,\n",
       "         'libsqlite3dylib': 2,\n",
       "         'hibernate+spring': 1,\n",
       "         'special': 161,\n",
       "         'addrinfo': 1,\n",
       "         'snaps': 1,\n",
       "         'unwrapped': 2,\n",
       "         'gt': 6,\n",
       "         'jdbccant': 1,\n",
       "         'outlookfolder': 1,\n",
       "         'lucid32': 1,\n",
       "         'infor': 1,\n",
       "         'nupkg': 1,\n",
       "         'assemblyinfocs': 1,\n",
       "         'dblib': 4,\n",
       "         'scalahtml': 1,\n",
       "         'w3c': 5,\n",
       "         'mapviewviewforoverlay': 1,\n",
       "         '11': 62,\n",
       "         'mutiple': 4,\n",
       "         'may': 51,\n",
       "         'n+1': 1,\n",
       "         'modus': 2,\n",
       "         'morgan': 1,\n",
       "         'trackablecollection': 1,\n",
       "         'trywithresources': 1,\n",
       "         'gray': 10,\n",
       "         '_sslc661': 1,\n",
       "         'hassize': 1,\n",
       "         'seem': 38,\n",
       "         'marry': 1,\n",
       "         'accidenlty': 1,\n",
       "         'intro': 1,\n",
       "         'jqueries': 1,\n",
       "         'clientcredentials': 1,\n",
       "         'holds': 4,\n",
       "         'pointandztopoint3d': 1,\n",
       "         'sysprefix': 1,\n",
       "         'odbcdatareader': 2,\n",
       "         'pe': 2,\n",
       "         'machines': 10,\n",
       "         'referencesvcmap': 1,\n",
       "         'emulate': 12,\n",
       "         'infrequentlyused': 1,\n",
       "         'lnk1181': 2,\n",
       "         'term': 14,\n",
       "         'tailer': 1,\n",
       "         'checkout': 25,\n",
       "         'gridstackjs': 1,\n",
       "         'thfield': 1,\n",
       "         'cache_classes': 1,\n",
       "         'p++': 1,\n",
       "         'pathgettempfilename': 1,\n",
       "         '32651error': 1,\n",
       "         '00002efd': 1,\n",
       "         'downloader': 1,\n",
       "         'corruption': 10,\n",
       "         'feature': 48,\n",
       "         'junction': 1,\n",
       "         'order_by': 4,\n",
       "         'idint': 1,\n",
       "         'gridview_rowcommand': 1,\n",
       "         'ses': 1,\n",
       "         'jvt': 1,\n",
       "         'form_builder': 1,\n",
       "         'popuphtml': 1,\n",
       "         'reportdatasource': 1,\n",
       "         'ppaondrej': 2,\n",
       "         'belongs_to': 22,\n",
       "         'exceptionstacktrace': 1,\n",
       "         'blobslice': 1,\n",
       "         '366': 1,\n",
       "         'objc': 34,\n",
       "         'suit': 1,\n",
       "         'pthread_mutex_unlock': 2,\n",
       "         'alarm': 4,\n",
       "         'sortby': 3,\n",
       "         'want': 155,\n",
       "         'succinctly': 2,\n",
       "         'willing': 1,\n",
       "         'patterndd': 1,\n",
       "         'determines': 1,\n",
       "         'grabbing': 10,\n",
       "         'doctrines2s': 1,\n",
       "         'looperprepare': 3,\n",
       "         'watchposition': 1,\n",
       "         'unlink': 2,\n",
       "         'involving': 10,\n",
       "         'datagramsocket': 1,\n",
       "         'listenerstart': 2,\n",
       "         'cron_scheduler': 1,\n",
       "         'webstore': 1,\n",
       "         'recursion': 83,\n",
       "         'saxparseexception': 2,\n",
       "         'manufacture': 1,\n",
       "         'getch': 2,\n",
       "         'overflownone': 1,\n",
       "         'synchronize': 17,\n",
       "         'collection2': 1,\n",
       "         'dsl': 1,\n",
       "         'backdrop': 3,\n",
       "         'gradually': 3,\n",
       "         'unhandledexception': 1,\n",
       "         'vcard': 1,\n",
       "         'contect': 1,\n",
       "         'person': 10,\n",
       "         'youtubeplugin': 1,\n",
       "         'mailsystemnet': 1,\n",
       "         'skrollr': 1,\n",
       "         'digest': 10,\n",
       "         'iojs': 1,\n",
       "         'sysgetsizeof': 1,\n",
       "         'traindesccollection': 1,\n",
       "         'hierarchicaldatatemplatetriggers': 1,\n",
       "         'stringvar': 1,\n",
       "         'viewvalue': 1,\n",
       "         'white': 81,\n",
       "         'identity': 49,\n",
       "         'desktop': 74,\n",
       "         'focuschecking': 1,\n",
       "         'log4net': 31,\n",
       "         'preferably': 10,\n",
       "         'roman': 3,\n",
       "         'upload': 515,\n",
       "         'initbinder': 3,\n",
       "         'guids': 3,\n",
       "         'inscribe': 1,\n",
       "         'systemcomponentmodelwin32exception': 1,\n",
       "         'logbackclassic': 1,\n",
       "         'painted': 1,\n",
       "         'firstresponder': 2,\n",
       "         'systemstringcomparison': 1,\n",
       "         'detemine': 1,\n",
       "         'systemiodirectorynotfoundexception': 1,\n",
       "         'dragndrop': 4,\n",
       "         'timetable': 1,\n",
       "         'pass': 840,\n",
       "         'vectorclass': 1,\n",
       "         'createelement': 1,\n",
       "         'presentmovieplayerviewcontrolleranimated': 1,\n",
       "         'to_date': 2,\n",
       "         'writes': 16,\n",
       "         'windowsmediaplayer': 1,\n",
       "         'appstore': 1,\n",
       "         '2920811': 1,\n",
       "         'trusted': 7,\n",
       "         'boxing': 2,\n",
       "         'xfbml': 1,\n",
       "         'customised': 2,\n",
       "         'dotenv': 1,\n",
       "         'systemcall': 1,\n",
       "         'getcurrentposition': 2,\n",
       "         'autoreleasepools': 2,\n",
       "         'yelp': 1,\n",
       "         'unavailable': 23,\n",
       "         'geting': 5,\n",
       "         'mudflap': 1,\n",
       "         'setdelegate': 2,\n",
       "         'canonical': 6,\n",
       "         'efficent': 1,\n",
       "         'pfloginviewcontroller': 1,\n",
       "         'rabbitmq': 14,\n",
       "         'memberexpression': 1,\n",
       "         'environmentfailfast': 1,\n",
       "         'codegniter': 1,\n",
       "         'remotemessage': 1,\n",
       "         'orgapachemavenpluginmojoexecutionexception': 1,\n",
       "         'sigusr2': 1,\n",
       "         'jodatimepassing': 1,\n",
       "         'provinces': 1,\n",
       "         'comeau': 1,\n",
       "         'surfaceview': 6,\n",
       "         'formsauthentication': 3,\n",
       "         'bar': 380,\n",
       "         'cutepdf': 1,\n",
       "         'cannot': 1314,\n",
       "         'statictext': 1,\n",
       "         'entityframeworksqlserverdll': 1,\n",
       "         'conngetrequestproperty': 1,\n",
       "         'mockrestserviceserver': 1,\n",
       "         'phpinfo': 3,\n",
       "         'implements': 25,\n",
       "         'nlp': 3,\n",
       "         'orgopencvobjdetectcascadeclassifiercascadeclassifier_1': 1,\n",
       "         'systemcollectionsgenericlistcustom': 1,\n",
       "         'protocol': 106,\n",
       "         'titles': 11,\n",
       "         'webinflib': 1,\n",
       "         'nsfilemanager': 1,\n",
       "         'eg': 45,\n",
       "         'continuewith': 7,\n",
       "         'msvcr120dll': 1,\n",
       "         'significantly': 3,\n",
       "         'inform': 2,\n",
       "         'chronometer': 1,\n",
       "         'ocl': 1,\n",
       "         'fibers': 1,\n",
       "         'loopj': 1,\n",
       "         'administative': 1,\n",
       "         'session_cookie_secure': 1,\n",
       "         'bluecolor': 1,\n",
       "         'runing': 1,\n",
       "         'fosuserbundle': 9,\n",
       "         '405': 15,\n",
       "         '4095': 1,\n",
       "         'dotnetbar': 1,\n",
       "         'dragged': 4,\n",
       "         'async_read_some': 1,\n",
       "         'enumbad': 1,\n",
       "         'ismember': 2,\n",
       "         'lined': 2,\n",
       "         'blocksize': 1,\n",
       "         'qgraphicsitem': 1,\n",
       "         'evict': 1,\n",
       "         'linq2sql': 4,\n",
       "         'loadmodel': 1,\n",
       "         'might': 23,\n",
       "         'rownames': 5,\n",
       "         'javanio': 2,\n",
       "         'distance': 62,\n",
       "         'dvwa': 1,\n",
       "         'setw': 1,\n",
       "         'addwithvalue': 1,\n",
       "         'wowza': 1,\n",
       "         'commandbutton': 4,\n",
       "         'loadingicon': 1,\n",
       "         'simpleblobdetector': 2,\n",
       "         'indicator': 18,\n",
       "         'marshallingview': 1,\n",
       "         'epli': 1,\n",
       "         'figures': 10,\n",
       "         'geocoordinates': 2,\n",
       "         'mysql_attr_init_command': 1,\n",
       "         'ienumerableobject': 2,\n",
       "         'rollnearest': 1,\n",
       "         'zipjs': 1,\n",
       "         'androidosasynctask': 1,\n",
       "         'srve0199e': 1,\n",
       "         'mangling': 3,\n",
       "         'predefined': 13,\n",
       "         'tristate': 3,\n",
       "         'spritenode': 1,\n",
       "         'sinatra': 34,\n",
       "         'addresses': 30,\n",
       "         'async_read': 1,\n",
       "         'reused': 1,\n",
       "         'signtool': 1,\n",
       "         'myname': 1,\n",
       "         'listitem': 7,\n",
       "         'armv6l': 1,\n",
       "         'icomparablet': 1,\n",
       "         'transactionatomic': 1,\n",
       "         'jradiobutton': 2,\n",
       "         'matchesselector': 1,\n",
       "         'remote_api': 1,\n",
       "         'scriptlets': 1,\n",
       "         'abc': 5,\n",
       "         'mvc3': 72,\n",
       "         'injectorunpr': 3,\n",
       "         'eclipselink': 12,\n",
       "         'uitabbar': 7,\n",
       "         'graphicsclearrect': 1,\n",
       "         '21': 25,\n",
       "         'comparing': 136,\n",
       "         'webapp': 26,\n",
       "         'testexecutionlistener': 1,\n",
       "         'cards': 12,\n",
       "         'videos': 38,\n",
       "         'olson': 1,\n",
       "         'getgenerictypedefinition': 1,\n",
       "         'ihandlerservice': 1,\n",
       "         'boxed': 3,\n",
       "         'qlisttat': 1,\n",
       "         'focused': 14,\n",
       "         'inlined': 2,\n",
       "         'modelformsets': 1,\n",
       "         'dictwriter': 4,\n",
       "         'textblock': 22,\n",
       "         'crosscutting': 1,\n",
       "         'basedon': 1,\n",
       "         'prematurely': 1,\n",
       "         'session_decode': 1,\n",
       "         'doctrine_connection_exception': 1,\n",
       "         'flaskg': 1,\n",
       "         'inet6': 1,\n",
       "         'sockaddr': 2,\n",
       "         '__main__': 1,\n",
       "         'arctan2': 1,\n",
       "         'arrowkeys': 1,\n",
       "         'wipe': 3,\n",
       "         'spent': 5,\n",
       "         'memcached': 29,\n",
       "         'import': 354,\n",
       "         'legato': 1,\n",
       "         'isempty': 1,\n",
       "         'cleared': 6,\n",
       "         'offsetx': 1,\n",
       "         'rejecting': 1,\n",
       "         'assync': 1,\n",
       "         'pipeseparated': 2,\n",
       "         'onetoone': 13,\n",
       "         'stdboolh': 1,\n",
       "         'turtles': 1,\n",
       "         'nicescroll': 1,\n",
       "         'commandt': 1,\n",
       "         'opposing': 1,\n",
       "         'cs0002': 1,\n",
       "         'meanjs': 1,\n",
       "         'javalangillegalargumentexception': 17,\n",
       "         'deques': 1,\n",
       "         'pypyodbc': 1,\n",
       "         '2dimensional': 12,\n",
       "         'subscriber': 1,\n",
       "         'htmlerb': 3,\n",
       "         '1030am': 1,\n",
       "         'myproduct1': 1,\n",
       "         'setreuseaddress': 1,\n",
       "         'orgcodehausmojorpmmavenplugin215rpm': 1,\n",
       "         'gruntwebpack': 1,\n",
       "         'arithmetical': 1,\n",
       "         'rectangleswrite': 1,\n",
       "         'celcius': 1,\n",
       "         'c#s': 7,\n",
       "         'undeline': 1,\n",
       "         'objectpoolt': 1,\n",
       "         'pecl': 1,\n",
       "         'dotdot': 1,\n",
       "         'redissharp': 1,\n",
       "         'rspecinstall': 2,\n",
       "         'behave': 9,\n",
       "         'linkextractor': 1,\n",
       "         'typesstringtype': 1,\n",
       "         'vb2010': 3,\n",
       "         'systemvoid': 1,\n",
       "         'revoke': 1,\n",
       "         'limitations': 10,\n",
       "         'linkedhashmap': 3,\n",
       "         '335': 1,\n",
       "         '1e5': 1,\n",
       "         'log4jproperties': 3,\n",
       "         'batchupdateexception': 1,\n",
       "         'inherited': 48,\n",
       "         'multifield': 1,\n",
       "         'pagebeforeload': 1,\n",
       "         'backbonemarionette': 2,\n",
       "         'classobj': 1,\n",
       "         'xbox': 3,\n",
       "         'recognizers': 1,\n",
       "         'grape': 1,\n",
       "         'propertyplaceholderconfigurerlike': 1,\n",
       "         'ironruby': 1,\n",
       "         'unexpected': 221,\n",
       "         'opting': 1,\n",
       "         'wmv': 2,\n",
       "         'hadoops': 1,\n",
       "         'ccmenuitemimage': 1,\n",
       "         'overcome': 1,\n",
       "         'for_each': 4,\n",
       "         'dilation': 1,\n",
       "         'rescaling': 1,\n",
       "         'strcasecmp': 4,\n",
       "         'scattergraph': 1,\n",
       "         'arraymapcall': 1,\n",
       "         'versionjava': 1,\n",
       "         'sendmail': 4,\n",
       "         'stdvectorstdvectort': 1,\n",
       "         'comboboxitemsadd': 1,\n",
       "         'risk': 2,\n",
       "         'fiddle': 3,\n",
       "         'php538': 1,\n",
       "         'vcend': 1,\n",
       "         'reorder': 19,\n",
       "         'great': 5,\n",
       "         'pbewithmd5anddes': 2,\n",
       "         'blongs': 1,\n",
       "         'requestconnectionremoteaddress': 1,\n",
       "         'mozfullscreenchange': 1,\n",
       "         'insertonsubmit': 2,\n",
       "         'ed': 1,\n",
       "         'bluetoothsocket': 1,\n",
       "         'helper': 62,\n",
       "         'variabe': 1,\n",
       "         'collector': 13,\n",
       "         'imagemagicknet': 2,\n",
       "         'triplet': 2,\n",
       "         'mode': 168,\n",
       "         'onunload': 4,\n",
       "         'pros': 15,\n",
       "         'cv2line': 1,\n",
       "         'ambient': 2,\n",
       "         'collapses': 3,\n",
       "         'neural': 13,\n",
       "         'coffeescript': 37,\n",
       "         'servicename': 1,\n",
       "         'bordercolor': 2,\n",
       "         'visualise': 1,\n",
       "         'superview': 8,\n",
       "         'nsstrings': 1,\n",
       "         'decimalformat': 1,\n",
       "         'uiview': 116,\n",
       "         'infowindowclose': 1,\n",
       "         'rowname': 1,\n",
       "         'symbolic': 4,\n",
       "         'currenlty': 1,\n",
       "         'adopt': 2,\n",
       "         'overwrites': 2,\n",
       "         'dummies': 2,\n",
       "         'highguiimread': 1,\n",
       "         'ioc': 12,\n",
       "         'away': 26,\n",
       "         'keyframe': 1,\n",
       "         'applicationconfigphp': 1,\n",
       "         'disgner': 1,\n",
       "         'xmlnodes': 1,\n",
       "         'rbf': 2,\n",
       "         'vendor': 7,\n",
       "         'explore': 2,\n",
       "         'windowlocation': 14,\n",
       "         'computation': 6,\n",
       "         'herokulike': 1,\n",
       "         'routerlink': 1,\n",
       "         'ntopenfile': 1,\n",
       "         'springwebscoket': 1,\n",
       "         'jpeg': 40,\n",
       "         'bernoulli': 1,\n",
       "         'virtualenvironment': 1,\n",
       "         'akamais': 1,\n",
       "         'typeradio': 1,\n",
       "         'handlewatchkitextentionrequest': 1,\n",
       "         'konami': 1,\n",
       "         'lobcreator': 1,\n",
       "         'iterates': 1,\n",
       "         'sqlalchemyexcoperationalerror': 1,\n",
       "         'arraycopy': 2,\n",
       "         'actionviewoutputbuffer': 1,\n",
       "         'gnuplot': 4,\n",
       "         'readprocessmemory': 2,\n",
       "         'tablecolumn': 1,\n",
       "         'stdbegin': 1,\n",
       "         'ie9': 54,\n",
       "         '533': 1,\n",
       "         'composition': 3,\n",
       "         'horizontally': 28,\n",
       "         'oracledataaccess': 1,\n",
       "         'localhost27017': 1,\n",
       "         '331': 2,\n",
       "         'systemwindowsformswebbrowser': 4,\n",
       "         'oneline': 3,\n",
       "         'locators': 1,\n",
       "         'xmm1': 1,\n",
       "         'c#40': 1,\n",
       "         'spinbox': 1,\n",
       "         'speical': 1,\n",
       "         'locking': 34,\n",
       "         'collectionviewsource': 3,\n",
       "         'provisioning': 3,\n",
       "         'skspritenodes': 3,\n",
       "         'initally': 1,\n",
       "         'resultmvc3': 1,\n",
       "         'errorsyntax': 1,\n",
       "         'lexical': 6,\n",
       "         'action': 353,\n",
       "         'field': 778,\n",
       "         'imageslider': 1,\n",
       "         'v85': 1,\n",
       "         '#19': 1,\n",
       "         'renvironment': 1,\n",
       "         'tribonacci': 1,\n",
       "         'createuserwizard': 1,\n",
       "         'angulars': 4,\n",
       "         'atof': 1,\n",
       "         'imagebased': 2,\n",
       "         'proceeding': 2,\n",
       "         'meshlambertmaterial': 1,\n",
       "         'code303': 1,\n",
       "         'pagination': 98,\n",
       "         'form_for': 9,\n",
       "         'oscillating': 1,\n",
       "         'diff': 19,\n",
       "         'stdunique_ptr': 1,\n",
       "         'itertoolscombinations': 1,\n",
       "         'fnupdate': 1,\n",
       "         'yii': 163,\n",
       "         'unmatched': 5,\n",
       "         'classified': 1,\n",
       "         'ratios': 1,\n",
       "         'hour': 50,\n",
       "         'element': 1107,\n",
       "         'selectizejs': 1,\n",
       "         'derived': 66,\n",
       "         'sendkey': 1,\n",
       "         'hellip': 1,\n",
       "         'walls': 1,\n",
       "         'qq': 2,\n",
       "         'sequences': 17,\n",
       "         'addrees': 1,\n",
       "         '0xcccccccc': 1,\n",
       "         'ascii': 105,\n",
       "         'init_autoloaderphp': 1,\n",
       "         'autocommit': 1,\n",
       "         'hierarchy': 29,\n",
       "         'htmlvalidationmessagefor': 3,\n",
       "         'cvh': 1,\n",
       "         '192rc': 1,\n",
       "         'seeding': 4,\n",
       "         'datetimewith': 1,\n",
       "         '#anchor': 1,\n",
       "         'activated': 4,\n",
       "         'dest': 1,\n",
       "         'upstream': 6,\n",
       "         'duplex': 3,\n",
       "         'progammatically': 1,\n",
       "         'getparameterbyname': 1,\n",
       "         'male': 1,\n",
       "         'post_build': 1,\n",
       "         'init': 45,\n",
       "         'booltovisibilityconverter': 1,\n",
       "         'basegameutils': 2,\n",
       "         'juno': 5,\n",
       "         'mh_bundle': 1,\n",
       "         'listviewitem': 7,\n",
       "         'dal': 4,\n",
       "         'drawing': 120,\n",
       "         'invokelater': 1,\n",
       "         'userdata': 4,\n",
       "         'atoi': 1,\n",
       "         'gtk_is_widget': 1,\n",
       "         'iterablesfrequency': 1,\n",
       "         'leftalign': 2,\n",
       "         'inline': 117,\n",
       "         'crosssite': 1,\n",
       "         'properites': 1,\n",
       "         'imagingcore': 1,\n",
       "         'durations': 1,\n",
       "         'cryptography': 3,\n",
       "         'iap': 3,\n",
       "         'getlist': 2,\n",
       "         'interruptedexception': 1,\n",
       "         'saves': 7,\n",
       "         'skscene': 5,\n",
       "         'stringstream': 6,\n",
       "         'orgapachemavenpluginsmavenantrunplugin17': 1,\n",
       "         'coffeescriptjs': 1,\n",
       "         'slices': 7,\n",
       "         'hooked': 2,\n",
       "         'msaccess': 4,\n",
       "         '0xfb': 1,\n",
       "         'jsonparsererror': 4,\n",
       "         'tv_nsec': 1,\n",
       "         'nsentitydescription': 1,\n",
       "         'po': 3,\n",
       "         'jquert': 1,\n",
       "         'controllers': 86,\n",
       "         'modelserializers': 1,\n",
       "         'qdatetime': 1,\n",
       "         'glassdoor': 1,\n",
       "         'yielded': 2,\n",
       "         'every': 256,\n",
       "         'matlab': 41,\n",
       "         'remap': 1,\n",
       "         'httpurlconnectiongetinputstream': 1,\n",
       "         'viewport': 13,\n",
       "         'csrf': 33,\n",
       "         'comparable': 9,\n",
       "         'fseek': 1,\n",
       "         'perrow': 1,\n",
       "         'stanford': 11,\n",
       "         'nontransactional': 1,\n",
       "         'hostname': 28,\n",
       "         'onclientclick': 6,\n",
       "         'chaning': 1,\n",
       "         'contentbody': 1,\n",
       "         'confirmed': 2,\n",
       "         'inspection': 4,\n",
       "         'clientscriptregisterstartupscript': 1,\n",
       "         'phpscript': 2,\n",
       "         'textinput': 6,\n",
       "         'proportionally': 4,\n",
       "         'dom': 219,\n",
       "         'wp_list_categories': 1,\n",
       "         'appphp': 2,\n",
       "         'unlock': 9,\n",
       "         'andor': 1,\n",
       "         'neatly': 1,\n",
       "         'vsto': 13,\n",
       "         'wp_debug': 1,\n",
       "         'transactions': 42,\n",
       "         'datetimemin': 1,\n",
       "         'ppk': 1,\n",
       "         'mapreduceinputlineinputformatlinespermap': 1,\n",
       "         'reinstantiate': 1,\n",
       "         'afnetworkingh': 1,\n",
       "         'firefoxdriver': 3,\n",
       "         'javaawtheadlessexception': 1,\n",
       "         'orgspringframeworkbootspringapplication': 1,\n",
       "         'canvasmatrix': 1,\n",
       "         'incremented': 4,\n",
       "         'constistant': 1,\n",
       "         'periodtype': 1,\n",
       "         'mediumtext': 1,\n",
       "         'gingerbread': 2,\n",
       "         'comgoogleappenginetoolsdevelopmentapiproxylocal': 1,\n",
       "         'remoteserver': 1,\n",
       "         'databasesqlquery': 1,\n",
       "         'calculates': 4,\n",
       "         'cqlsh': 1,\n",
       "         'addition': 18,\n",
       "         'order_invoicetpl': 1,\n",
       "         'mysqli_connect': 6,\n",
       "         'run': 776,\n",
       "         'keystrokes': 4,\n",
       "         'disc': 3,\n",
       "         'replacechild': 1,\n",
       "         'streamtoarray': 1,\n",
       "         'recusrion': 1,\n",
       "         'navigateurl': 1,\n",
       "         'viewforheaderinsection': 1,\n",
       "         'shaders': 5,\n",
       "         'developes': 1,\n",
       "         'tablayoutpanel': 2,\n",
       "         'ngclass': 7,\n",
       "         'trac': 1,\n",
       "         'hidden': 128,\n",
       "         'timeago': 1,\n",
       "         'controltextdidchange': 1,\n",
       "         'folders': 55,\n",
       "         'isotope': 2,\n",
       "         'routedatavalues': 1,\n",
       "         'datetimegettimezone': 1,\n",
       "         'numpyrandomdirichlet': 1,\n",
       "         'deleted': 21,\n",
       "         'destroys': 3,\n",
       "         'docmddeleteobject': 1,\n",
       "         'preg_replace': 44,\n",
       "         'matplotlibpyplot': 4,\n",
       "         'window_loaded': 1,\n",
       "         'strongest': 1,\n",
       "         'messagelistener': 1,\n",
       "         'metaprogramming': 4,\n",
       "         'setdefaultencoding': 1,\n",
       "         'propertychanged': 4,\n",
       "         '4s': 4,\n",
       "         'typesubmit': 4,\n",
       "         '490': 2,\n",
       "         'service_manager': 1,\n",
       "         'dragdropped': 1,\n",
       "         'objcopy': 1,\n",
       "         'programatically': 95,\n",
       "         'asyncronous': 1,\n",
       "         'sysobjects': 1,\n",
       "         'fileoutputstream': 8,\n",
       "         'resumable': 3,\n",
       "         'dimes': 1,\n",
       "         '2009': 1,\n",
       "         'typehinting': 1,\n",
       "         'alter': 11,\n",
       "         'unreachable': 6,\n",
       "         'stdofstream': 1,\n",
       "         'databound': 18,\n",
       "         '2000': 6,\n",
       "         'jsonproperty': 3,\n",
       "         'soft': 11,\n",
       "         'fake': 11,\n",
       "         'touchevent': 3,\n",
       "         'recording': 13,\n",
       "         'rcp': 10,\n",
       "         'lefthand': 5,\n",
       "         'nh30': 1,\n",
       "         'maxwidth': 4,\n",
       "         'inserttext': 1,\n",
       "         'owin': 17,\n",
       "         '43': 16,\n",
       "         'accepts': 12,\n",
       "         'fixedpoint': 1,\n",
       "         'aes_string': 1,\n",
       "         'activex': 14,\n",
       "         'upto': 6,\n",
       "         '102': 2,\n",
       "         'parties': 1,\n",
       "         'reflector': 2,\n",
       "         'socketoutputstream': 1,\n",
       "         'engine': 161,\n",
       "         'arent': 23,\n",
       "         '_base': 1,\n",
       "         'subobject': 1,\n",
       "         'advice': 19,\n",
       "         'v70': 1,\n",
       "         'querybuilder': 2,\n",
       "         'executorservicesubmit': 1,\n",
       "         'bubbles': 2,\n",
       "         'nontable': 1,\n",
       "         'skins': 1,\n",
       "         'lnk4049': 1,\n",
       "         'prepopulating': 1,\n",
       "         'rpc_e_servercall_retrylater': 1,\n",
       "         'regardless': 12,\n",
       "         'app': 1116,\n",
       "         'constness': 1,\n",
       "         'jqueryfadein': 1,\n",
       "         'maplong': 1,\n",
       "         'ime': 1,\n",
       "         'variants': 4,\n",
       "         'zendloaderautoloaderfactory': 1,\n",
       "         'int16': 3,\n",
       "         'aem': 2,\n",
       "         'setters': 12,\n",
       "         'threaded': 23,\n",
       "         'lowamplitude': 1,\n",
       "         'socketsometimes': 1,\n",
       "         'crashes': 74,\n",
       "         'isolated': 7,\n",
       "         'authenticationsectionmode': 1,\n",
       "         'java7': 3,\n",
       "         'attribude': 1,\n",
       "         'root': 148,\n",
       "         'dashed': 6,\n",
       "         'checkable': 2,\n",
       "         'htmldocumentinvokescript': 1,\n",
       "         'listener': 85,\n",
       "         'audioservicesh': 1,\n",
       "         'imdb': 1,\n",
       "         'didset': 1,\n",
       "         'dbsetlocal': 1,\n",
       "         'apply_along_axis': 1,\n",
       "         '_splitpath_s': 1,\n",
       "         '4x': 1,\n",
       "         'autoclose': 1,\n",
       "         'jroute_': 1,\n",
       "         'reference': 581,\n",
       "         'dimensions': 30,\n",
       "         'strokes': 3,\n",
       "         'clearcolor': 1,\n",
       "         'joshuas': 1,\n",
       "         'endless': 8,\n",
       "         'dicerolling': 1,\n",
       "         'keystroke': 2,\n",
       "         'cuda_visible_devices': 1,\n",
       "         'facetsdrug': 1,\n",
       "         'pca': 3,\n",
       "         'cakephp': 172,\n",
       "         'ff': 17,\n",
       "         'wp+db+phpmyadmin': 1,\n",
       "         'capitalize': 10,\n",
       "         'solutionwide': 1,\n",
       "         'rijndael': 1,\n",
       "         'extbuttonsplit': 1,\n",
       "         'jee6': 1,\n",
       "         'shutilrmtree': 1,\n",
       "         'htmlraw': 1,\n",
       "         'localhost8080': 7,\n",
       "         'nannan': 2,\n",
       "         'deletebyquery': 1,\n",
       "         'sockjs': 1,\n",
       "         'runnotifier': 1,\n",
       "         'windsor': 11,\n",
       "         'users_url': 1,\n",
       "         'unify': 1,\n",
       "         'setdefault': 1,\n",
       "         'barchart': 6,\n",
       "         'ear': 10,\n",
       "         '23': 18,\n",
       "         'mixin': 4,\n",
       "         'useridentityisauthenticated': 2,\n",
       "         'tiff': 7,\n",
       "         'detectmultiscale': 1,\n",
       "         'twtweetcomposeviewcontroller': 1,\n",
       "         'ord': 2,\n",
       "         'benchmark': 9,\n",
       "         'listliststring': 4,\n",
       "         'v183': 1,\n",
       "         'springsecurity': 8,\n",
       "         'cleaner': 5,\n",
       "         'addall': 2,\n",
       "         'is_null': 1,\n",
       "         'jvm': 73,\n",
       "         'sunsecuritysslsslcontextimpltls10context': 1,\n",
       "         'comicejniregistry': 1,\n",
       "         'textgetbytes': 1,\n",
       "         'short': 44,\n",
       "         'distribute': 2,\n",
       "         'displayable': 1,\n",
       "         'jcl': 1,\n",
       "         'wserver442': 1,\n",
       "         'disp_e_typemismatch': 1,\n",
       "         'unsized': 1,\n",
       "         'j2sescale': 1,\n",
       "         'helps': 1,\n",
       "         'texboxes': 1,\n",
       "         'debit': 2,\n",
       "         'threadgetuncaughtexceptionhandler': 1,\n",
       "         'terribly': 2,\n",
       "         'replaceobjectatindex': 1,\n",
       "         'stdlength_error': 1,\n",
       "         'guava': 29,\n",
       "         'basis': 8,\n",
       "         'logentries': 1,\n",
       "         'xxxdll': 1,\n",
       "         'tracked': 1,\n",
       "         'processmainmodule': 1,\n",
       "         'mapbox': 5,\n",
       "         'asphyperlinkfield': 1,\n",
       "         'async_read_until': 1,\n",
       "         'datasrc': 1,\n",
       "         'archetype': 4,\n",
       "         'leavecriticalsection': 1,\n",
       "         'servicecertificate': 1,\n",
       "         'readmemd': 1,\n",
       "         'containerdataitem': 1,\n",
       "         'tablewidget': 1,\n",
       "         'fancybox134': 1,\n",
       "         'slows': 7,\n",
       "         'wrapping': 37,\n",
       "         'containergetcomponents': 1,\n",
       "         'productsphpcat1': 1,\n",
       "         'nonproxyhosts': 1,\n",
       "         'rpath': 3,\n",
       "         'strjoin': 1,\n",
       "         'pushstack': 2,\n",
       "         'u001b': 1,\n",
       "         'rid': 36,\n",
       "         'hes': 1,\n",
       "         'abnormally': 2,\n",
       "         '10g': 3,\n",
       "         'selectioncolor': 1,\n",
       "         'aspwebform1_aspx': 1,\n",
       "         'parallely': 1,\n",
       "         'hardware': 12,\n",
       "         'submit_tag': 1,\n",
       "         'unserializable': 1,\n",
       "         'webhook': 1,\n",
       "         'injdbc': 1,\n",
       "         '30k': 1,\n",
       "         'ntdlldll': 1,\n",
       "         'requestfeature': 1,\n",
       "         'idiomatic': 8,\n",
       "         'spite': 1,\n",
       "         'jframes': 3,\n",
       "         'workcompleted': 1,\n",
       "         'railsajax': 1,\n",
       "         '__declspec': 5,\n",
       "         'divconfirm': 1,\n",
       "         'xpage': 1,\n",
       "         'applet': 79,\n",
       "         'emiting': 1,\n",
       "         'basedir': 1,\n",
       "         'multiprocessingpoolsmap_async': 1,\n",
       "         'iosapp': 1,\n",
       "         'localhost85': 1,\n",
       "         'threadsetapartmentstate': 1,\n",
       "         'type_info': 1,\n",
       "         'transcluded': 3,\n",
       "         'coclass': 1,\n",
       "         'strdup': 1,\n",
       "         'cmakedefine': 1,\n",
       "         'htmlheadstyle': 1,\n",
       "         'pgp': 1,\n",
       "         'verifying': 8,\n",
       "         'muliple': 1,\n",
       "         'tutorials': 31,\n",
       "         ...})"
      ]
     },
     "execution_count": 83,
     "metadata": {},
     "output_type": "execute_result"
    }
   ],
   "source": [
    "words_counts"
   ]
  },
  {
   "cell_type": "code",
   "execution_count": 109,
   "metadata": {},
   "outputs": [],
   "source": [
    "DICT_SIZE = 5000\n",
    "most_common_words = sorted(words_counts.items(), key=lambda x: x[1], reverse=True)[:DICT_SIZE]\n",
    "most_common_words = [word[0]for word in most_common_words]\n",
    "#note that dict() changes the order of the original list, but it doesn't matter here\n",
    "WORDS_TO_INDEX = dict([(word, key) for (key, word) in enumerate(most_common_words)])\n",
    "#WORDS_TO_INDEX = {word: key for (key, word) in enumerate(most_common_words)}\n",
    "INDEX_TO_WORDS = dict([(key, word) for (key, word) in enumerate(most_common_words)])\n",
    "ALL_WORDS = WORDS_TO_INDEX.keys()\n",
    "\n",
    "def my_bag_of_words(text, words_to_index, dict_size):\n",
    "    \"\"\"\n",
    "        text: a string\n",
    "        dict_size: size of the dictionary\n",
    "        \n",
    "        return a vector which is a bag-of-words representation of 'text'\n",
    "    \"\"\"\n",
    "    result_vector = np.zeros(dict_size)\n",
    "    for word in text.split():\n",
    "        if word in words_to_index:\n",
    "            result_vector[words_to_index[word]] += 1\n",
    "    return result_vector"
   ]
  },
  {
   "cell_type": "code",
   "execution_count": 110,
   "metadata": {},
   "outputs": [],
   "source": [
    "def test_my_bag_of_words():\n",
    "    words_to_index = {'hi': 0, 'you': 1, 'me': 2, 'are': 3}\n",
    "    examples = ['hi how are you']\n",
    "    answers = [[1, 1, 0, 1]]\n",
    "    for ex, ans in zip(examples, answers):\n",
    "        if (my_bag_of_words(ex, words_to_index, 4) != ans).any():\n",
    "            return \"Wrong answer for the case: '%s'\" % ex\n",
    "    return 'Basic tests are passed.'"
   ]
  },
  {
   "cell_type": "code",
   "execution_count": 111,
   "metadata": {},
   "outputs": [
    {
     "name": "stdout",
     "output_type": "stream",
     "text": [
      "Basic tests are passed.\n"
     ]
    }
   ],
   "source": [
    "print(test_my_bag_of_words())"
   ]
  },
  {
   "cell_type": "markdown",
   "metadata": {},
   "source": [
    "Now apply the implemented function to all samples (this might take up to a minute):"
   ]
  },
  {
   "cell_type": "code",
   "execution_count": 112,
   "metadata": {},
   "outputs": [],
   "source": [
    "from scipy import sparse as sp_sparse"
   ]
  },
  {
   "cell_type": "code",
   "execution_count": 113,
   "metadata": {},
   "outputs": [
    {
     "name": "stdout",
     "output_type": "stream",
     "text": [
      "X_train shape  (100000, 5000)\n",
      "X_val shape  (30000, 5000)\n",
      "X_test shape  (20000, 5000)\n"
     ]
    }
   ],
   "source": [
    "X_train_mybag = sp_sparse.vstack([sp_sparse.csr_matrix(my_bag_of_words(text, WORDS_TO_INDEX, DICT_SIZE)) for text in X_train])\n",
    "X_val_mybag = sp_sparse.vstack([sp_sparse.csr_matrix(my_bag_of_words(text, WORDS_TO_INDEX, DICT_SIZE)) for text in X_val])\n",
    "X_test_mybag = sp_sparse.vstack([sp_sparse.csr_matrix(my_bag_of_words(text, WORDS_TO_INDEX, DICT_SIZE)) for text in X_test])\n",
    "print('X_train shape ', X_train_mybag.shape)\n",
    "print('X_val shape ', X_val_mybag.shape)\n",
    "print('X_test shape ', X_test_mybag.shape)"
   ]
  },
  {
   "cell_type": "markdown",
   "metadata": {},
   "source": [
    "As you might notice, we transform the data to sparse representation, to store the useful information efficiently. There are many [types](https://docs.scipy.org/doc/scipy/reference/sparse.html) of such representations, however sklearn algorithms can work only with [csr](https://docs.scipy.org/doc/scipy/reference/generated/scipy.sparse.csr_matrix.html#scipy.sparse.csr_matrix) matrix, so we will use this one."
   ]
  },
  {
   "cell_type": "markdown",
   "metadata": {},
   "source": [
    "**Task 3 (BagOfWords).** For the 11th row in *X_train_mybag* find how many non-zero elements it has. In this task the answer (variable *non_zero_elements_count*) should be a number, e.g. 20."
   ]
  },
  {
   "cell_type": "code",
   "execution_count": 120,
   "metadata": {},
   "outputs": [
    {
     "name": "stdout",
     "output_type": "stream",
     "text": [
      "Current answer for task BagOfWords is:\n",
      " 7...\n"
     ]
    }
   ],
   "source": [
    "row = X_train_mybag[10].toarray()[0]\n",
    "non_zero_elements_count = sum(1 for i in row if i!=0)\n",
    "#easier: non_zero_elements_count = np.count_nonzero(row)\n",
    "\n",
    "grader.submit_tag('BagOfWords', str(non_zero_elements_count))"
   ]
  },
  {
   "cell_type": "markdown",
   "metadata": {},
   "source": [
    "#### TF-IDF\n",
    "\n",
    "The second approach extends the bag-of-words framework by taking into account total frequencies of words in the corpora. It helps to penalize too frequent words and provide better features space. \n",
    "\n",
    "Implement function *tfidf_features* using class [TfidfVectorizer](http://scikit-learn.org/stable/modules/generated/sklearn.feature_extraction.text.TfidfVectorizer.html) from *scikit-learn*. Use *train* corpus to train a vectorizer. Don't forget to take a look into the arguments that you can pass to it. We suggest that you filter out too rare words (occur less than in 5 titles) and too frequent words (occur more than in 90% of the titles). Also, use bigrams along with unigrams in your vocabulary. "
   ]
  },
  {
   "cell_type": "code",
   "execution_count": 121,
   "metadata": {},
   "outputs": [],
   "source": [
    "from sklearn.feature_extraction.text import TfidfVectorizer"
   ]
  },
  {
   "cell_type": "code",
   "execution_count": 134,
   "metadata": {},
   "outputs": [],
   "source": [
    "def tfidf_features(X_train, X_val, X_test):\n",
    "    \"\"\"\n",
    "        X_train, X_val, X_test — samples        \n",
    "        return TF-IDF vectorized representation of each sample and vocabulary\n",
    "    \"\"\"\n",
    "    # Create TF-IDF vectorizer with a proper parameters choice\n",
    "    # Fit the vectorizer on the train set\n",
    "    # Transform the train, test, and val sets and return the result\n",
    "    \n",
    "    #default regexp selects tokens of 2 or more alphanumeric characters, the token_pattern here reverses all non_whitespace chars\n",
    "    tfidf_vectorizer = TfidfVectorizer(token_pattern='(\\S+)', min_df=5, max_df=0.9, ngram_range=(1,2))\n",
    "    \n",
    "    #note: fit_transform will learn vocab and transfrom to matrix tgt\n",
    "    #need to learn vocab on train set only, and use the the same vocab on val and test set\n",
    "    tfidf_vectorizer.fit(X_train)\n",
    "    X_train = tfidf_vectorizer.transform(X_train)\n",
    "    X_val = tfidf_vectorizer.transform(X_val)\n",
    "    X_test = tfidf_vectorizer.transform(X_test)\n",
    "    \n",
    "    return X_train, X_val, X_test, tfidf_vectorizer.vocabulary_"
   ]
  },
  {
   "cell_type": "markdown",
   "metadata": {},
   "source": [
    "Once you have done text preprocessing, always have a look at the results. Be very careful at this step, because the performance of future models will drastically depend on it. \n",
    "\n",
    "In this case, check whether you have c++ or c# in your vocabulary, as they are obviously important tokens in our tags prediction task:"
   ]
  },
  {
   "cell_type": "code",
   "execution_count": 135,
   "metadata": {},
   "outputs": [],
   "source": [
    "X_train_tfidf, X_val_tfidf, X_test_tfidf, tfidf_vocab = tfidf_features(X_train, X_val, X_test)\n",
    "tfidf_reversed_vocab = {i:word for word,i in tfidf_vocab.items()}"
   ]
  },
  {
   "cell_type": "code",
   "execution_count": 136,
   "metadata": {},
   "outputs": [
    {
     "data": {
      "text/plain": [
       "1879"
      ]
     },
     "execution_count": 136,
     "metadata": {},
     "output_type": "execute_result"
    }
   ],
   "source": [
    "tfidf_vocab['c#']"
   ]
  },
  {
   "cell_type": "markdown",
   "metadata": {},
   "source": [
    "If you can't find it, we need to understand how did it happen that we lost them? It happened during the built-in tokenization of TfidfVectorizer. Luckily, we can influence on this process. Get back to the function above and use '(\\S+)' regexp as a *token_pattern* in the constructor of the vectorizer.  "
   ]
  },
  {
   "cell_type": "markdown",
   "metadata": {},
   "source": [
    "Now, use this transormation for the data and check again."
   ]
  },
  {
   "cell_type": "code",
   "execution_count": 139,
   "metadata": {},
   "outputs": [
    {
     "name": "stdout",
     "output_type": "stream",
     "text": [
      "1976 1879 8265\n"
     ]
    }
   ],
   "source": [
    "print (tfidf_vocab['c++'], tfidf_vocab['c#'], tfidf_vocab['java'])"
   ]
  },
  {
   "cell_type": "markdown",
   "metadata": {},
   "source": [
    "### MultiLabel classifier\n",
    "\n",
    "As we have noticed before, in this task each example can have multiple tags. To deal with such kind of prediction, we need to transform labels in a binary form and the prediction will be a mask of 0s and 1s. For this purpose it is convenient to use [MultiLabelBinarizer](http://scikit-learn.org/stable/modules/generated/sklearn.preprocessing.MultiLabelBinarizer.html) from *sklearn*."
   ]
  },
  {
   "cell_type": "code",
   "execution_count": 140,
   "metadata": {},
   "outputs": [],
   "source": [
    "from sklearn.preprocessing import MultiLabelBinarizer"
   ]
  },
  {
   "cell_type": "code",
   "execution_count": 142,
   "metadata": {},
   "outputs": [],
   "source": [
    "mlb = MultiLabelBinarizer(classes=sorted(tags_counts.keys()))\n",
    "y_train = mlb.fit_transform(y_train)\n",
    "y_val = mlb.fit_transform(y_val)"
   ]
  },
  {
   "cell_type": "markdown",
   "metadata": {},
   "source": [
    "Implement the function *train_classifier* for training a classifier. In this task we suggest to use One-vs-Rest approach, which is implemented in [OneVsRestClassifier](http://scikit-learn.org/stable/modules/generated/sklearn.multiclass.OneVsRestClassifier.html) class. In this approach *k* classifiers (= number of tags) are trained. As a basic classifier, use [LogisticRegression](http://scikit-learn.org/stable/modules/generated/sklearn.linear_model.LogisticRegression.html). It is one of the simplest methods, but often it performs good enough in text classification tasks. It might take some time, because a number of classifiers to train is large."
   ]
  },
  {
   "cell_type": "code",
   "execution_count": 145,
   "metadata": {},
   "outputs": [],
   "source": [
    "from sklearn.multiclass import OneVsRestClassifier\n",
    "from sklearn.linear_model import LogisticRegression, RidgeClassifier"
   ]
  },
  {
   "cell_type": "code",
   "execution_count": 148,
   "metadata": {},
   "outputs": [],
   "source": [
    "def train_classifier(X_train, y_train, C=1.0, penalty='l2'):\n",
    "    \"\"\"\n",
    "      X_train, y_train — training data\n",
    "      \n",
    "      return: trained classifier\n",
    "    \"\"\"\n",
    "    \n",
    "    # Create and fit LogisticRegression wraped into OneVsRestClassifier.\n",
    "    \n",
    "    lr = LogisticRegression(C=C, penalty=penalty)\n",
    "    ovr = OneVsRestClassifier(lr)\n",
    "    #will train num_class binary classifiers\n",
    "    ovr.fit(X_train, y_train)\n",
    "    \n",
    "    return ovr\n",
    "      "
   ]
  },
  {
   "cell_type": "markdown",
   "metadata": {},
   "source": [
    "Train the classifiers for different data transformations: *bag-of-words* and *tf-idf*."
   ]
  },
  {
   "cell_type": "code",
   "execution_count": 149,
   "metadata": {},
   "outputs": [],
   "source": [
    "classifier_mybag = train_classifier(X_train_mybag, y_train)\n",
    "classifier_tfidf = train_classifier(X_train_tfidf, y_train)"
   ]
  },
  {
   "cell_type": "markdown",
   "metadata": {},
   "source": [
    "Now you can create predictions for the data. You will need two types of predictions: labels and scores."
   ]
  },
  {
   "cell_type": "code",
   "execution_count": 150,
   "metadata": {},
   "outputs": [],
   "source": [
    "y_val_predicted_labels_mybag = classifier_mybag.predict(X_val_mybag)\n",
    "y_val_predicted_scores_mybag = classifier_mybag.decision_function(X_val_mybag)  #distance of each sample from the decision boundary for each class\n",
    "\n",
    "y_val_predicted_labels_tfidf = classifier_tfidf.predict(X_val_tfidf)\n",
    "y_val_predicted_scores_tfidf = classifier_tfidf.decision_function(X_val_tfidf)"
   ]
  },
  {
   "cell_type": "code",
   "execution_count": 151,
   "metadata": {},
   "outputs": [
    {
     "data": {
      "text/plain": [
       "array([[-3.57853651, -5.40630841, -5.85580288, ..., -6.56839378,\n",
       "        -4.03527181, -5.91114616],\n",
       "       [-3.06878032, -7.2861077 , -9.07101103, ..., -6.40320476,\n",
       "        -5.03303351, -5.66561109],\n",
       "       [-7.50144152, -3.50558472, -7.32283374, ..., -7.85014224,\n",
       "        -7.22302152, -5.92296892],\n",
       "       ..., \n",
       "       [-2.76316693, -4.18944008, -6.47063082, ..., -6.50243026,\n",
       "        -4.82884782, -6.16053153],\n",
       "       [-3.24961242, -5.82332837, -6.56168926, ..., -7.21197947,\n",
       "        -5.0503844 , -7.13880005],\n",
       "       [-3.8564512 , -4.05469643, -7.09046363, ..., -6.82968514,\n",
       "        -4.51251681, -4.84338071]])"
      ]
     },
     "execution_count": 151,
     "metadata": {},
     "output_type": "execute_result"
    }
   ],
   "source": [
    "y_val_predicted_scores_mybag"
   ]
  },
  {
   "cell_type": "code",
   "execution_count": 155,
   "metadata": {},
   "outputs": [
    {
     "data": {
      "text/plain": [
       "(30000, 18300)"
      ]
     },
     "execution_count": 155,
     "metadata": {},
     "output_type": "execute_result"
    }
   ],
   "source": [
    "X_val_tfidf.shape"
   ]
  },
  {
   "cell_type": "code",
   "execution_count": 154,
   "metadata": {},
   "outputs": [
    {
     "data": {
      "text/plain": [
       "(30000, 100)"
      ]
     },
     "execution_count": 154,
     "metadata": {},
     "output_type": "execute_result"
    }
   ],
   "source": [
    "y_val_predicted_labels_tfidf.shape"
   ]
  },
  {
   "cell_type": "markdown",
   "metadata": {},
   "source": [
    "Now take a look at how classifier, which uses TF-IDF, works for a few examples:"
   ]
  },
  {
   "cell_type": "code",
   "execution_count": 156,
   "metadata": {},
   "outputs": [
    {
     "name": "stdout",
     "output_type": "stream",
     "text": [
      "Title:\todbc_exec always fail\n",
      "True labels:\tphp,sql\n",
      "Predicted labels:\t\n",
      "\n",
      "\n",
      "Title:\taccess base classes variable within child class\n",
      "True labels:\tjavascript\n",
      "Predicted labels:\t\n",
      "\n",
      "\n",
      "Title:\tcontenttype application json required rails\n",
      "True labels:\truby,ruby-on-rails\n",
      "Predicted labels:\tjson,ruby-on-rails\n",
      "\n",
      "\n"
     ]
    }
   ],
   "source": [
    "y_val_pred_inversed = mlb.inverse_transform(y_val_predicted_labels_tfidf) #convert from multi-class matrix back\n",
    "y_val_inversed = mlb.inverse_transform(y_val)\n",
    "for i in range(3):\n",
    "    print('Title:\\t{}\\nTrue labels:\\t{}\\nPredicted labels:\\t{}\\n\\n'.format(\n",
    "        X_val[i],\n",
    "        ','.join(y_val_inversed[i]),\n",
    "        ','.join(y_val_pred_inversed[i])\n",
    "    ))"
   ]
  },
  {
   "cell_type": "markdown",
   "metadata": {},
   "source": [
    "Now, we would need to compare the results of different predictions, e.g. to see whether TF-IDF transformation helps or to try different regularization techniques in logistic regression. For all these experiments, we need to setup evaluation procedure. "
   ]
  },
  {
   "cell_type": "markdown",
   "metadata": {},
   "source": [
    "### Evaluation\n",
    "\n",
    "To evaluate the results we will use several classification metrics:\n",
    " - [Accuracy](http://scikit-learn.org/stable/modules/generated/sklearn.metrics.accuracy_score.html)\n",
    " - [F1-score](http://scikit-learn.org/stable/modules/generated/sklearn.metrics.f1_score.html)\n",
    " - [Area under ROC-curve](http://scikit-learn.org/stable/modules/generated/sklearn.metrics.roc_auc_score.html)\n",
    " - [Area under precision-recall curve](http://scikit-learn.org/stable/modules/generated/sklearn.metrics.average_precision_score.html#sklearn.metrics.average_precision_score) \n",
    " \n",
    "Make sure you are familiar with all of them. How would you expect the things work for the multi-label scenario? Read about micro/macro/weighted averaging following the sklearn links provided above."
   ]
  },
  {
   "cell_type": "code",
   "execution_count": 157,
   "metadata": {},
   "outputs": [],
   "source": [
    "from sklearn.metrics import accuracy_score\n",
    "from sklearn.metrics import f1_score\n",
    "from sklearn.metrics import roc_auc_score \n",
    "from sklearn.metrics import average_precision_score\n",
    "from sklearn.metrics import recall_score"
   ]
  },
  {
   "cell_type": "markdown",
   "metadata": {},
   "source": [
    "Implement the function *print_evaluation_scores* which calculates and prints to stdout:\n",
    " - *accuracy*\n",
    " - *F1-score macro/micro/weighted*\n",
    " - *Precision macro/micro/weighted*"
   ]
  },
  {
   "cell_type": "code",
   "execution_count": 158,
   "metadata": {},
   "outputs": [],
   "source": [
    "def print_evaluation_scores(y_val, predicted):\n",
    "    \n",
    "    accuracy = accuracy_score(y_val, predicted)\n",
    "    \n",
    "    print (accuracy)"
   ]
  },
  {
   "cell_type": "code",
   "execution_count": 159,
   "metadata": {},
   "outputs": [
    {
     "name": "stdout",
     "output_type": "stream",
     "text": [
      "Bag-of-words\n",
      "0.3581\n",
      "Tfidf\n",
      "0.333933333333\n"
     ]
    }
   ],
   "source": [
    "print('Bag-of-words')\n",
    "print_evaluation_scores(y_val, y_val_predicted_labels_mybag)\n",
    "print('Tfidf')\n",
    "print_evaluation_scores(y_val, y_val_predicted_labels_tfidf)"
   ]
  },
  {
   "cell_type": "markdown",
   "metadata": {},
   "source": [
    "You might also want to plot some generalization of the [ROC curve](http://scikit-learn.org/stable/modules/model_evaluation.html#receiver-operating-characteristic-roc) for the case of multi-label classification. Provided function *roc_auc* can make it for you. The input parameters of this function are:\n",
    " - true labels\n",
    " - decision functions scores\n",
    " - number of classes"
   ]
  },
  {
   "cell_type": "code",
   "execution_count": 160,
   "metadata": {},
   "outputs": [],
   "source": [
    "from metrics import roc_auc\n",
    "%matplotlib inline"
   ]
  },
  {
   "cell_type": "code",
   "execution_count": 161,
   "metadata": {},
   "outputs": [
    {
     "data": {
      "image/png": "[encoded data removed]",
      "text/plain": [
       "<matplotlib.figure.Figure at 0x7fd174292c88>"
      ]
     },
     "metadata": {},
     "output_type": "display_data"
    }
   ],
   "source": [
    "n_classes = len(tags_counts)\n",
    "roc_auc(y_val, y_val_predicted_scores_mybag, n_classes)"
   ]
  },
  {
   "cell_type": "code",
   "execution_count": 162,
   "metadata": {},
   "outputs": [
    {
     "data": {
      "image/png": "[encoded data removed]",
      "text/plain": [
       "<matplotlib.figure.Figure at 0x7fd127567550>"
      ]
     },
     "metadata": {},
     "output_type": "display_data"
    }
   ],
   "source": [
    "n_classes = len(tags_counts)\n",
    "roc_auc(y_val, y_val_predicted_scores_tfidf, n_classes)"
   ]
  },
  {
   "cell_type": "markdown",
   "metadata": {},
   "source": [
    "**Task 4 (MultilabelClassification).** Once we have the evaluation set up, we suggest that you experiment a bit with training your classifiers. We will use *F1-score weighted* as an evaluation metric. Our recommendation:\n",
    "- compare the quality of the bag-of-words and TF-IDF approaches and chose one of them.\n",
    "- for the chosen one, try *L1* and *L2*-regularization techniques in Logistic Regression with different coefficients (e.g. C equal to 0.1, 1, 10, 100).\n",
    "\n",
    "You also could try other improvements of the preprocessing / model, if you want. "
   ]
  },
  {
   "cell_type": "code",
   "execution_count": null,
   "metadata": {
    "collapsed": true
   },
   "outputs": [],
   "source": [
    "######################################\n",
    "######### YOUR CODE HERE #############\n",
    "######################################"
   ]
  },
  {
   "cell_type": "markdown",
   "metadata": {},
   "source": [
    "When you are happy with the quality, create predictions for *test* set, which you will submit to Coursera."
   ]
  },
  {
   "cell_type": "code",
   "execution_count": 166,
   "metadata": {},
   "outputs": [
    {
     "name": "stdout",
     "output_type": "stream",
     "text": [
      "Current answer for task MultilabelClassification is:\n",
      " 0\tmysql,php\n",
      "1\tjavascript\n",
      "2\t\n",
      "3\tjavascript,jquery\n",
      "4\tandroid,java\n",
      "5\tphp,xml\n",
      "6\tajax,json,web-services\n",
      "7\t...\n"
     ]
    }
   ],
   "source": [
    "test_predictions = classifier_mybag.predict(X_test_mybag)\n",
    "test_pred_inversed = mlb.inverse_transform(test_predictions)\n",
    "\n",
    "test_predictions_for_submission = '\\n'.join('%i\\t%s' % (i, ','.join(row)) for i, row in enumerate(test_pred_inversed))\n",
    "grader.submit_tag('MultilabelClassification', test_predictions_for_submission)"
   ]
  },
  {
   "cell_type": "markdown",
   "metadata": {},
   "source": [
    "### Analysis of the most important features"
   ]
  },
  {
   "cell_type": "markdown",
   "metadata": {},
   "source": [
    "Finally, it is usually a good idea to look at the features (words or n-grams) that are used with the largest weights in your logistic regression model."
   ]
  },
  {
   "cell_type": "code",
   "execution_count": 168,
   "metadata": {},
   "outputs": [
    {
     "data": {
      "text/plain": [
       "100"
      ]
     },
     "execution_count": 168,
     "metadata": {},
     "output_type": "execute_result"
    }
   ],
   "source": [
    "len(classifier_tfidf.estimators_)"
   ]
  },
  {
   "cell_type": "markdown",
   "metadata": {},
   "source": [
    "Implement the function *print_words_for_tag* to find them. Get back to sklearn documentation on [OneVsRestClassifier](http://scikit-learn.org/stable/modules/generated/sklearn.multiclass.OneVsRestClassifier.html) and [LogisticRegression](http://scikit-learn.org/stable/modules/generated/sklearn.linear_model.LogisticRegression.html) if needed."
   ]
  },
  {
   "cell_type": "code",
   "execution_count": 181,
   "metadata": {},
   "outputs": [],
   "source": [
    "def print_words_for_tag(classifier, tag, tags_classes, index_to_words, all_words):\n",
    "    \"\"\"\n",
    "        classifier: trained classifier\n",
    "        tag: particular tag\n",
    "        tags_classes: a list of classes names from MultiLabelBinarizer\n",
    "        index_to_words: index_to_words transformation\n",
    "        all_words: all words in the dictionary\n",
    "        \n",
    "        return nothing, just print top 5 positive and top 5 negative words for current tag\n",
    "    \"\"\"\n",
    "    print('Tag:\\t{}'.format(tag))\n",
    "    \n",
    "    # Extract an estimator from the classifier for the given tag.\n",
    "    # Extract feature coefficients from the estimator. \n",
    "    \n",
    "    idx = tags_classes.index(tag)\n",
    "    estimator = classifier.estimators_[idx]\n",
    "    coef = estimator.coef_[0]  #Coefficient of the features in the decision function. shape (1, #features)\n",
    "    cd = {i: coef[i] for i in range(len(coef))}\n",
    "    scd = sorted(cd.items(), key=lambda x: x[1], reverse=True)\n",
    "    \n",
    "    top_positive_words = [index_to_words[i[0]] for i in scd[:5]]\n",
    "    top_negative_words = [index_to_words[i[0]] for i in scd[-5:]]\n",
    "    print('Top positive words:\\t{}'.format(', '.join(top_positive_words)))\n",
    "    print('Top negative words:\\t{}\\n'.format(', '.join(top_negative_words)))"
   ]
  },
  {
   "cell_type": "code",
   "execution_count": 182,
   "metadata": {},
   "outputs": [
    {
     "name": "stdout",
     "output_type": "stream",
     "text": [
      "Tag:\tc\n",
      "Top positive words:\tc, malloc, scanf, printf, gcc\n",
      "Top negative words:\tc#, javascript, python, php, java\n",
      "\n",
      "Tag:\tc++\n",
      "Top positive words:\tc++, qt, boost, mfc, opencv\n",
      "Top negative words:\tc#, javascript, python, php, java\n",
      "\n",
      "Tag:\tlinux\n",
      "Top positive words:\tlinux, ubuntu, c, address, signal\n",
      "Top negative words:\tmethod, array, jquery, c#, javascript\n",
      "\n"
     ]
    }
   ],
   "source": [
    "print_words_for_tag(classifier_tfidf, 'c', mlb.classes, tfidf_reversed_vocab, ALL_WORDS)\n",
    "print_words_for_tag(classifier_tfidf, 'c++', mlb.classes, tfidf_reversed_vocab, ALL_WORDS)\n",
    "print_words_for_tag(classifier_tfidf, 'linux', mlb.classes, tfidf_reversed_vocab, ALL_WORDS)"
   ]
  },
  {
   "cell_type": "markdown",
   "metadata": {},
   "source": [
    "### Authorization & Submission\n",
    "To submit assignment parts to Cousera platform, please, enter your e-mail and token into variables below. You can generate token on this programming assignment page. <b>Note:</b> Token expires 30 minutes after generation."
   ]
  },
  {
   "cell_type": "code",
   "execution_count": 183,
   "metadata": {},
   "outputs": [
    {
     "name": "stdout",
     "output_type": "stream",
     "text": [
      "You want to submit these parts:\n",
      "Task TextPrepare:\n",
      " sqlite php readonly\n",
      "creating multiple textboxes dynamically\n",
      "self one prefer javascript\n",
      "save php date...\n",
      "Task WordsTagsCount:\n",
      " javascript,c#,java\n",
      "using,php,java...\n",
      "Task BagOfWords:\n",
      " 7...\n",
      "Task MultilabelClassification:\n",
      " 0\tmysql,php\n",
      "1\tjavascript\n",
      "2\t\n",
      "3\tjavascript,jquery\n",
      "4\tandroid,java\n",
      "5\tphp,xml\n",
      "6\tajax,json,web-services\n",
      "7\t...\n"
     ]
    }
   ],
   "source": [
    "grader.status()"
   ]
  },
  {
   "cell_type": "code",
   "execution_count": 184,
   "metadata": {},
   "outputs": [
    {
     "name": "stdout",
     "output_type": "stream",
     "text": [
      "You want to submit these parts:\n",
      "Task TextPrepare:\n",
      " sqlite php readonly\n",
      "creating multiple textboxes dynamically\n",
      "self one prefer javascript\n",
      "save php date...\n",
      "Task WordsTagsCount:\n",
      " javascript,c#,java\n",
      "using,php,java...\n",
      "Task BagOfWords:\n",
      " 7...\n",
      "Task MultilabelClassification:\n",
      " 0\tmysql,php\n",
      "1\tjavascript\n",
      "2\t\n",
      "3\tjavascript,jquery\n",
      "4\tandroid,java\n",
      "5\tphp,xml\n",
      "6\tajax,json,web-services\n",
      "7\t...\n"
     ]
    }
   ],
   "source": [
    "STUDENT_EMAIL = 'sichenglei1125@gmail.com' \n",
    "STUDENT_TOKEN = 'uKyUGXsjqz0vAs5H'\n",
    "grader.status()"
   ]
  },
  {
   "cell_type": "markdown",
   "metadata": {},
   "source": [
    "If you want to submit these answers, run cell below"
   ]
  },
  {
   "cell_type": "code",
   "execution_count": 185,
   "metadata": {},
   "outputs": [
    {
     "name": "stdout",
     "output_type": "stream",
     "text": [
      "Submitted to Coursera platform. See results on assignment page!\n"
     ]
    }
   ],
   "source": [
    "grader.submit(STUDENT_EMAIL, STUDENT_TOKEN)"
   ]
  },
  {
   "cell_type": "code",
   "execution_count": null,
   "metadata": {},
   "outputs": [],
   "source": []
  }
 ],
 "metadata": {
  "kernelspec": {
   "display_name": "Python 3",
   "language": "python",
   "name": "python3"
  },
  "language_info": {
   "codemirror_mode": {
    "name": "ipython",
    "version": 3
   },
   "file_extension": ".py",
   "mimetype": "text/x-python",
   "name": "python",
   "nbconvert_exporter": "python",
   "pygments_lexer": "ipython3",
   "version": "3.5.2"
  }
 },
 "nbformat": 4,
 "nbformat_minor": 2
}
